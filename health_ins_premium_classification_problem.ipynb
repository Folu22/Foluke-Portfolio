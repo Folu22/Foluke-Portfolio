{
 "cells": [
  {
   "cell_type": "markdown",
   "id": "2afaa52a",
   "metadata": {},
   "source": [
    "# About Dataset\n",
    "\n",
    "Problem Statement\n",
    "Your client is an Insurance company and they need your help in building a model to predict whether the policyholder (customer) will pay next premium on time or not. An insurance policy is an arrangement by which a company undertakes to provide a guarantee of compensation for specified loss, damage, illness, or death in return for the payment of a specified premium. A premium is a sum of money that you pay regularly to an insurance company for this guarantee.\n",
    "\n",
    "For example, you may pay a premium of Rs. 5000 each year for a medical insurance cover of Rs. 200,000/- so that if, God forbid, you fall ill and need to be hospitalized in that year, the insurance provider company will bear the cost of hospitalization etc. for upto Rs. 200,000. Now if you are wondering how can company bear such high hospitalization cost when it charges a premium of only Rs. 5000/-, that is where the concept of probabilities comes in picture. For example, like you, there may be 100 customers who would be paying a premium of Rs. 5000 every year, but only a few of them (say 2-3) would get hospitalized that year and not everyone. This way everyone shares the risk of everyone else. Just like medical insurance, there is life insurance where every year you pay a premium of certain amount to insurance provider company so that in case of unfortunate event of your death, the insurance provider company will provide a compensation (called ‘sum assured’) to your immediate family. Similarly, there can be a variety of insurance products for different kinds of\n",
    "risks. As you can imagine, if a large number of customers do not pay the premium on time, it might disrupt the cash flow and smooth operation for the company. A customer may stop making regular premium payments for a variety of reasons - some may forget, some may find it expensive and not worth the value, some may not have money to pay the premium etc."
   ]
  },
  {
   "cell_type": "markdown",
   "id": "79b90441",
   "metadata": {},
   "source": [
    "# Objective of the project\n",
    "- Predict given the dataset, if a customer or policyholder will pay his/her premium fee the following year\n",
    "- Perform some EDA to unerstand he independent variables\n",
    "- Build a model using classification algorithms and also make sure you deploy it."
   ]
  },
  {
   "cell_type": "code",
   "execution_count": 3,
   "id": "a0cf45ad",
   "metadata": {},
   "outputs": [],
   "source": [
    "#importing necessary libraries\n",
    "import pandas as pd\n",
    "import datetime as dt\n",
    "import numpy as np\n",
    "import matplotlib.pyplot as plt\n",
    "%matplotlib inline\n",
    "import seaborn as sns\n",
    "\n",
    "from sklearn.tree import DecisionTreeClassifier\n",
    "from sklearn.linear_model import LogisticRegression\n",
    "from sklearn.neighbors import KNeighborsClassifier\n",
    "from sklearn.model_selection import train_test_split, RandomizedSearchCV, cross_val_score, KFold\n",
    "from sklearn.preprocessing import MinMaxScaler, StandardScaler\n",
    "from sklearn.metrics import f1_score, roc_auc_score, confusion_matrix, accuracy_score, ConfusionMatrixDisplay, recall_score, precision_score\n",
    "from sklearn.pipeline import Pipeline, make_pipeline\n",
    "from category_encoders import OneHotEncoder\n",
    "from imblearn.over_sampling import RandomOverSampler\n"
   ]
  },
  {
   "cell_type": "code",
   "execution_count": 4,
   "id": "b0e9f40f",
   "metadata": {},
   "outputs": [
    {
     "data": {
      "text/plain": [
       "((79853, 13), (34224, 11))"
      ]
     },
     "execution_count": 4,
     "metadata": {},
     "output_type": "execute_result"
    }
   ],
   "source": [
    "#importing the dataset\n",
    "train = pd.read_csv('train__health_ins_premium_data.csv')\n",
    "test = pd.read_csv('test_health_ins_premium_data.csv')\n",
    "train.shape, test.shape"
   ]
  },
  {
   "cell_type": "code",
   "execution_count": 5,
   "id": "fdb10ab2",
   "metadata": {},
   "outputs": [
    {
     "data": {
      "text/plain": [
       "['id',\n",
       " 'perc_premium_paid_by_cash_credit',\n",
       " 'age_in_days',\n",
       " 'Income',\n",
       " 'Count_3-6_months_late',\n",
       " 'Count_6-12_months_late',\n",
       " 'Count_more_than_12_months_late',\n",
       " 'application_underwriting_score',\n",
       " 'no_of_premiums_paid',\n",
       " 'sourcing_channel',\n",
       " 'residence_area_type',\n",
       " 'premium',\n",
       " 'target']"
      ]
     },
     "execution_count": 5,
     "metadata": {},
     "output_type": "execute_result"
    }
   ],
   "source": [
    "#siting the list of columns in each dataset\n",
    "train.columns.to_list()"
   ]
  },
  {
   "cell_type": "code",
   "execution_count": 6,
   "id": "d21c8871",
   "metadata": {},
   "outputs": [
    {
     "data": {
      "text/plain": [
       "['id',\n",
       " 'perc_premium_paid_by_cash_credit',\n",
       " 'age_in_days',\n",
       " 'Income',\n",
       " 'Count_3-6_months_late',\n",
       " 'Count_6-12_months_late',\n",
       " 'Count_more_than_12_months_late',\n",
       " 'application_underwriting_score',\n",
       " 'no_of_premiums_paid',\n",
       " 'sourcing_channel',\n",
       " 'residence_area_type']"
      ]
     },
     "execution_count": 6,
     "metadata": {},
     "output_type": "execute_result"
    }
   ],
   "source": [
    "test.columns.to_list()"
   ]
  },
  {
   "cell_type": "code",
   "execution_count": 7,
   "id": "5af64513",
   "metadata": {},
   "outputs": [
    {
     "data": {
      "text/html": [
       "<div>\n",
       "<style scoped>\n",
       "    .dataframe tbody tr th:only-of-type {\n",
       "        vertical-align: middle;\n",
       "    }\n",
       "\n",
       "    .dataframe tbody tr th {\n",
       "        vertical-align: top;\n",
       "    }\n",
       "\n",
       "    .dataframe thead th {\n",
       "        text-align: right;\n",
       "    }\n",
       "</style>\n",
       "<table border=\"1\" class=\"dataframe\">\n",
       "  <thead>\n",
       "    <tr style=\"text-align: right;\">\n",
       "      <th></th>\n",
       "      <th>id</th>\n",
       "      <th>perc_premium_paid_by_cash_credit</th>\n",
       "      <th>age_in_days</th>\n",
       "      <th>Income</th>\n",
       "      <th>Count_3-6_months_late</th>\n",
       "      <th>Count_6-12_months_late</th>\n",
       "      <th>Count_more_than_12_months_late</th>\n",
       "      <th>application_underwriting_score</th>\n",
       "      <th>no_of_premiums_paid</th>\n",
       "      <th>sourcing_channel</th>\n",
       "      <th>residence_area_type</th>\n",
       "      <th>premium</th>\n",
       "      <th>target</th>\n",
       "    </tr>\n",
       "  </thead>\n",
       "  <tbody>\n",
       "    <tr>\n",
       "      <th>0</th>\n",
       "      <td>110936</td>\n",
       "      <td>0.429</td>\n",
       "      <td>12058</td>\n",
       "      <td>355060</td>\n",
       "      <td>0.0</td>\n",
       "      <td>0.0</td>\n",
       "      <td>0.0</td>\n",
       "      <td>99.02</td>\n",
       "      <td>13</td>\n",
       "      <td>C</td>\n",
       "      <td>Urban</td>\n",
       "      <td>3300</td>\n",
       "      <td>1</td>\n",
       "    </tr>\n",
       "    <tr>\n",
       "      <th>1</th>\n",
       "      <td>41492</td>\n",
       "      <td>0.010</td>\n",
       "      <td>21546</td>\n",
       "      <td>315150</td>\n",
       "      <td>0.0</td>\n",
       "      <td>0.0</td>\n",
       "      <td>0.0</td>\n",
       "      <td>99.89</td>\n",
       "      <td>21</td>\n",
       "      <td>A</td>\n",
       "      <td>Urban</td>\n",
       "      <td>18000</td>\n",
       "      <td>1</td>\n",
       "    </tr>\n",
       "    <tr>\n",
       "      <th>2</th>\n",
       "      <td>31300</td>\n",
       "      <td>0.917</td>\n",
       "      <td>17531</td>\n",
       "      <td>84140</td>\n",
       "      <td>2.0</td>\n",
       "      <td>3.0</td>\n",
       "      <td>1.0</td>\n",
       "      <td>98.69</td>\n",
       "      <td>7</td>\n",
       "      <td>C</td>\n",
       "      <td>Rural</td>\n",
       "      <td>3300</td>\n",
       "      <td>0</td>\n",
       "    </tr>\n",
       "    <tr>\n",
       "      <th>3</th>\n",
       "      <td>19415</td>\n",
       "      <td>0.049</td>\n",
       "      <td>15341</td>\n",
       "      <td>250510</td>\n",
       "      <td>0.0</td>\n",
       "      <td>0.0</td>\n",
       "      <td>0.0</td>\n",
       "      <td>99.57</td>\n",
       "      <td>9</td>\n",
       "      <td>A</td>\n",
       "      <td>Urban</td>\n",
       "      <td>9600</td>\n",
       "      <td>1</td>\n",
       "    </tr>\n",
       "    <tr>\n",
       "      <th>4</th>\n",
       "      <td>99379</td>\n",
       "      <td>0.052</td>\n",
       "      <td>31400</td>\n",
       "      <td>198680</td>\n",
       "      <td>0.0</td>\n",
       "      <td>0.0</td>\n",
       "      <td>0.0</td>\n",
       "      <td>99.87</td>\n",
       "      <td>12</td>\n",
       "      <td>B</td>\n",
       "      <td>Urban</td>\n",
       "      <td>9600</td>\n",
       "      <td>1</td>\n",
       "    </tr>\n",
       "  </tbody>\n",
       "</table>\n",
       "</div>"
      ],
      "text/plain": [
       "       id  perc_premium_paid_by_cash_credit  age_in_days  Income  \\\n",
       "0  110936                             0.429        12058  355060   \n",
       "1   41492                             0.010        21546  315150   \n",
       "2   31300                             0.917        17531   84140   \n",
       "3   19415                             0.049        15341  250510   \n",
       "4   99379                             0.052        31400  198680   \n",
       "\n",
       "   Count_3-6_months_late  Count_6-12_months_late  \\\n",
       "0                    0.0                     0.0   \n",
       "1                    0.0                     0.0   \n",
       "2                    2.0                     3.0   \n",
       "3                    0.0                     0.0   \n",
       "4                    0.0                     0.0   \n",
       "\n",
       "   Count_more_than_12_months_late  application_underwriting_score  \\\n",
       "0                             0.0                           99.02   \n",
       "1                             0.0                           99.89   \n",
       "2                             1.0                           98.69   \n",
       "3                             0.0                           99.57   \n",
       "4                             0.0                           99.87   \n",
       "\n",
       "   no_of_premiums_paid sourcing_channel residence_area_type  premium  target  \n",
       "0                   13                C               Urban     3300       1  \n",
       "1                   21                A               Urban    18000       1  \n",
       "2                    7                C               Rural     3300       0  \n",
       "3                    9                A               Urban     9600       1  \n",
       "4                   12                B               Urban     9600       1  "
      ]
     },
     "execution_count": 7,
     "metadata": {},
     "output_type": "execute_result"
    }
   ],
   "source": [
    "#subseting by head to galnce through the dataset\n",
    "train.head()"
   ]
  },
  {
   "cell_type": "markdown",
   "id": "91d48718",
   "metadata": {},
   "source": [
    "# desctiption of  each varibale\n",
    "- id - Identification number of the customer\n",
    "\n",
    "- perc_premium_paid_by_cash_credit - This is the percentage of the premium amount paid through cash credit\n",
    "\n",
    "- age_in_days - age of the customers in numeric format\n",
    "\n",
    "- income - income of the policyholder or customers\n",
    "\n",
    "- Count_3-6_months_late - Number of time with 3-6 months late payment\n",
    "\n",
    "- Count_6-12_months_late - Number of time with 6-12 months late payment\n",
    "\n",
    "- Count_more_than_12_months_late - Number of time with more than 12 months late payment\n",
    "\n",
    "- application_underwriting_score - Before an insurance company can accept your application for coverage, \n",
    "                                   they analyze your personal, financial, and medical details. Then, they calculate \n",
    "                                   the level of risk you present to their business, also known as a risk score. \n",
    "                                   This process is called underwriting. Underwriting is the process by which the insurer \n",
    "                                   determines whether a consumer is eligible for coverage. The higher the score the better.\n",
    "                                   Those with high score will pay less premium.\n",
    "\n",
    "- no_of_premiums_paid - Number of premiums paid\n",
    "\n",
    "- sourcing_channel - The source through which the insurance policy is sold to the policyholder\n",
    "\n",
    "- residence_area_type - Residence area where the customer lives\n",
    "\n",
    "- premium - Amount of money paid by the policyholder for an insurance policy\n",
    "\n",
    "- target -This is the column that shows whether the customer will pay next premium on time or not, where 0 = NO, and 1 = Yes"
   ]
  },
  {
   "cell_type": "markdown",
   "id": "78852496",
   "metadata": {},
   "source": [
    "# Performing EDA"
   ]
  },
  {
   "cell_type": "code",
   "execution_count": 8,
   "id": "c1f590a3",
   "metadata": {},
   "outputs": [
    {
     "data": {
      "text/plain": [
       "(False, False)"
      ]
     },
     "execution_count": 8,
     "metadata": {},
     "output_type": "execute_result"
    }
   ],
   "source": [
    "# Checking for duplicated data\n",
    "train.duplicated().any(), test.duplicated().any()"
   ]
  },
  {
   "cell_type": "code",
   "execution_count": 9,
   "id": "538ddffb",
   "metadata": {},
   "outputs": [
    {
     "data": {
      "text/plain": [
       "(True, True)"
      ]
     },
     "execution_count": 9,
     "metadata": {},
     "output_type": "execute_result"
    }
   ],
   "source": [
    "#check if there are any missing value\n",
    "train.isna().sum().any(), test.isna().sum().any()"
   ]
  },
  {
   "cell_type": "code",
   "execution_count": 10,
   "id": "60874ba4",
   "metadata": {},
   "outputs": [
    {
     "data": {
      "text/plain": [
       "id                                     0\n",
       "perc_premium_paid_by_cash_credit       0\n",
       "age_in_days                            0\n",
       "Income                                 0\n",
       "Count_3-6_months_late                 97\n",
       "Count_6-12_months_late                97\n",
       "Count_more_than_12_months_late        97\n",
       "application_underwriting_score      2974\n",
       "no_of_premiums_paid                    0\n",
       "sourcing_channel                       0\n",
       "residence_area_type                    0\n",
       "premium                                0\n",
       "target                                 0\n",
       "dtype: int64"
      ]
     },
     "execution_count": 10,
     "metadata": {},
     "output_type": "execute_result"
    }
   ],
   "source": [
    "#check the columns with missing value on the train dataset\n",
    "train.isna().sum()"
   ]
  },
  {
   "cell_type": "code",
   "execution_count": 11,
   "id": "bc6fb331",
   "metadata": {},
   "outputs": [
    {
     "data": {
      "text/plain": [
       "id                                     0\n",
       "perc_premium_paid_by_cash_credit       0\n",
       "age_in_days                            0\n",
       "Income                                 0\n",
       "Count_3-6_months_late                 31\n",
       "Count_6-12_months_late                31\n",
       "Count_more_than_12_months_late        31\n",
       "application_underwriting_score      1323\n",
       "no_of_premiums_paid                    0\n",
       "sourcing_channel                       0\n",
       "residence_area_type                    0\n",
       "dtype: int64"
      ]
     },
     "execution_count": 11,
     "metadata": {},
     "output_type": "execute_result"
    }
   ],
   "source": [
    "#check the columns with missing value on the test dataset\n",
    "test.isna().sum()"
   ]
  },
  {
   "cell_type": "code",
   "execution_count": 12,
   "id": "55737f60",
   "metadata": {},
   "outputs": [],
   "source": [
    "#filling the missing data in all columns using a def function\n",
    "\n",
    "def missing_value(data):\n",
    "    \"\"\"\n",
    "    Fill in missing values in dataframe.\n",
    "    \n",
    "    parameter\n",
    "    ---------\n",
    "    data : Dataframe\n",
    "          \n",
    "    Returns\n",
    "    -------\n",
    "    Dataframe\n",
    "        The dataframe with no missig values.\n",
    "    \"\"\"\n",
    "    cols = ['Count_3-6_months_late', 'Count_6-12_months_late', 'Count_more_than_12_months_late', 'application_underwriting_score']\n",
    "    for i in cols:\n",
    "        fill_data = data[i].fillna(value = data[i].median(), inplace = True)\n",
    "    return fill_data\n",
    "missing_value(train)\n",
    "missing_value(test)\n",
    "    "
   ]
  },
  {
   "cell_type": "code",
   "execution_count": 13,
   "id": "0c2645e8",
   "metadata": {},
   "outputs": [
    {
     "data": {
      "text/plain": [
       "(False, False)"
      ]
     },
     "execution_count": 13,
     "metadata": {},
     "output_type": "execute_result"
    }
   ],
   "source": [
    "train.isna().sum().any(), test.isna().sum().any()"
   ]
  },
  {
   "cell_type": "code",
   "execution_count": 14,
   "id": "f353b5bb",
   "metadata": {},
   "outputs": [
    {
     "data": {
      "text/html": [
       "<div>\n",
       "<style scoped>\n",
       "    .dataframe tbody tr th:only-of-type {\n",
       "        vertical-align: middle;\n",
       "    }\n",
       "\n",
       "    .dataframe tbody tr th {\n",
       "        vertical-align: top;\n",
       "    }\n",
       "\n",
       "    .dataframe thead th {\n",
       "        text-align: right;\n",
       "    }\n",
       "</style>\n",
       "<table border=\"1\" class=\"dataframe\">\n",
       "  <thead>\n",
       "    <tr style=\"text-align: right;\">\n",
       "      <th></th>\n",
       "      <th>id</th>\n",
       "      <th>perc_premium_paid_by_cash_credit</th>\n",
       "      <th>age_in_days</th>\n",
       "      <th>Income</th>\n",
       "      <th>Count_3-6_months_late</th>\n",
       "      <th>Count_6-12_months_late</th>\n",
       "      <th>Count_more_than_12_months_late</th>\n",
       "      <th>application_underwriting_score</th>\n",
       "      <th>no_of_premiums_paid</th>\n",
       "      <th>sourcing_channel</th>\n",
       "      <th>residence_area_type</th>\n",
       "      <th>premium</th>\n",
       "      <th>target</th>\n",
       "    </tr>\n",
       "  </thead>\n",
       "  <tbody>\n",
       "    <tr>\n",
       "      <th>0</th>\n",
       "      <td>110936</td>\n",
       "      <td>0.429</td>\n",
       "      <td>12058</td>\n",
       "      <td>355060</td>\n",
       "      <td>0.0</td>\n",
       "      <td>0.0</td>\n",
       "      <td>0.0</td>\n",
       "      <td>99.02</td>\n",
       "      <td>13</td>\n",
       "      <td>C</td>\n",
       "      <td>Urban</td>\n",
       "      <td>3300</td>\n",
       "      <td>1</td>\n",
       "    </tr>\n",
       "    <tr>\n",
       "      <th>1</th>\n",
       "      <td>41492</td>\n",
       "      <td>0.010</td>\n",
       "      <td>21546</td>\n",
       "      <td>315150</td>\n",
       "      <td>0.0</td>\n",
       "      <td>0.0</td>\n",
       "      <td>0.0</td>\n",
       "      <td>99.89</td>\n",
       "      <td>21</td>\n",
       "      <td>A</td>\n",
       "      <td>Urban</td>\n",
       "      <td>18000</td>\n",
       "      <td>1</td>\n",
       "    </tr>\n",
       "    <tr>\n",
       "      <th>2</th>\n",
       "      <td>31300</td>\n",
       "      <td>0.917</td>\n",
       "      <td>17531</td>\n",
       "      <td>84140</td>\n",
       "      <td>2.0</td>\n",
       "      <td>3.0</td>\n",
       "      <td>1.0</td>\n",
       "      <td>98.69</td>\n",
       "      <td>7</td>\n",
       "      <td>C</td>\n",
       "      <td>Rural</td>\n",
       "      <td>3300</td>\n",
       "      <td>0</td>\n",
       "    </tr>\n",
       "    <tr>\n",
       "      <th>3</th>\n",
       "      <td>19415</td>\n",
       "      <td>0.049</td>\n",
       "      <td>15341</td>\n",
       "      <td>250510</td>\n",
       "      <td>0.0</td>\n",
       "      <td>0.0</td>\n",
       "      <td>0.0</td>\n",
       "      <td>99.57</td>\n",
       "      <td>9</td>\n",
       "      <td>A</td>\n",
       "      <td>Urban</td>\n",
       "      <td>9600</td>\n",
       "      <td>1</td>\n",
       "    </tr>\n",
       "    <tr>\n",
       "      <th>4</th>\n",
       "      <td>99379</td>\n",
       "      <td>0.052</td>\n",
       "      <td>31400</td>\n",
       "      <td>198680</td>\n",
       "      <td>0.0</td>\n",
       "      <td>0.0</td>\n",
       "      <td>0.0</td>\n",
       "      <td>99.87</td>\n",
       "      <td>12</td>\n",
       "      <td>B</td>\n",
       "      <td>Urban</td>\n",
       "      <td>9600</td>\n",
       "      <td>1</td>\n",
       "    </tr>\n",
       "  </tbody>\n",
       "</table>\n",
       "</div>"
      ],
      "text/plain": [
       "       id  perc_premium_paid_by_cash_credit  age_in_days  Income  \\\n",
       "0  110936                             0.429        12058  355060   \n",
       "1   41492                             0.010        21546  315150   \n",
       "2   31300                             0.917        17531   84140   \n",
       "3   19415                             0.049        15341  250510   \n",
       "4   99379                             0.052        31400  198680   \n",
       "\n",
       "   Count_3-6_months_late  Count_6-12_months_late  \\\n",
       "0                    0.0                     0.0   \n",
       "1                    0.0                     0.0   \n",
       "2                    2.0                     3.0   \n",
       "3                    0.0                     0.0   \n",
       "4                    0.0                     0.0   \n",
       "\n",
       "   Count_more_than_12_months_late  application_underwriting_score  \\\n",
       "0                             0.0                           99.02   \n",
       "1                             0.0                           99.89   \n",
       "2                             1.0                           98.69   \n",
       "3                             0.0                           99.57   \n",
       "4                             0.0                           99.87   \n",
       "\n",
       "   no_of_premiums_paid sourcing_channel residence_area_type  premium  target  \n",
       "0                   13                C               Urban     3300       1  \n",
       "1                   21                A               Urban    18000       1  \n",
       "2                    7                C               Rural     3300       0  \n",
       "3                    9                A               Urban     9600       1  \n",
       "4                   12                B               Urban     9600       1  "
      ]
     },
     "execution_count": 14,
     "metadata": {},
     "output_type": "execute_result"
    }
   ],
   "source": [
    "train.head()"
   ]
  },
  {
   "cell_type": "code",
   "execution_count": 15,
   "id": "bdec4271",
   "metadata": {
    "scrolled": false
   },
   "outputs": [
    {
     "data": {
      "text/html": [
       "<div>\n",
       "<style scoped>\n",
       "    .dataframe tbody tr th:only-of-type {\n",
       "        vertical-align: middle;\n",
       "    }\n",
       "\n",
       "    .dataframe tbody tr th {\n",
       "        vertical-align: top;\n",
       "    }\n",
       "\n",
       "    .dataframe thead th {\n",
       "        text-align: right;\n",
       "    }\n",
       "</style>\n",
       "<table border=\"1\" class=\"dataframe\">\n",
       "  <thead>\n",
       "    <tr style=\"text-align: right;\">\n",
       "      <th></th>\n",
       "      <th>id</th>\n",
       "      <th>perc_premium_paid_by_cash_credit</th>\n",
       "      <th>age_in_days</th>\n",
       "      <th>Income</th>\n",
       "      <th>Count_3-6_months_late</th>\n",
       "      <th>Count_6-12_months_late</th>\n",
       "      <th>Count_more_than_12_months_late</th>\n",
       "      <th>application_underwriting_score</th>\n",
       "      <th>no_of_premiums_paid</th>\n",
       "      <th>premium</th>\n",
       "      <th>target</th>\n",
       "    </tr>\n",
       "  </thead>\n",
       "  <tbody>\n",
       "    <tr>\n",
       "      <th>count</th>\n",
       "      <td>79853.000000</td>\n",
       "      <td>79853.000000</td>\n",
       "      <td>79853.000000</td>\n",
       "      <td>7.985300e+04</td>\n",
       "      <td>79853.000000</td>\n",
       "      <td>79853.000000</td>\n",
       "      <td>79853.000000</td>\n",
       "      <td>79853.000000</td>\n",
       "      <td>79853.000000</td>\n",
       "      <td>79853.000000</td>\n",
       "      <td>79853.000000</td>\n",
       "    </tr>\n",
       "    <tr>\n",
       "      <th>mean</th>\n",
       "      <td>57167.166368</td>\n",
       "      <td>0.314288</td>\n",
       "      <td>18846.696906</td>\n",
       "      <td>2.088472e+05</td>\n",
       "      <td>0.248369</td>\n",
       "      <td>0.078093</td>\n",
       "      <td>0.059935</td>\n",
       "      <td>99.072606</td>\n",
       "      <td>10.863887</td>\n",
       "      <td>10924.507533</td>\n",
       "      <td>0.937397</td>\n",
       "    </tr>\n",
       "    <tr>\n",
       "      <th>std</th>\n",
       "      <td>32928.970160</td>\n",
       "      <td>0.334915</td>\n",
       "      <td>5208.719136</td>\n",
       "      <td>4.965826e+05</td>\n",
       "      <td>0.691102</td>\n",
       "      <td>0.436251</td>\n",
       "      <td>0.311840</td>\n",
       "      <td>0.726395</td>\n",
       "      <td>5.170687</td>\n",
       "      <td>9401.676542</td>\n",
       "      <td>0.242248</td>\n",
       "    </tr>\n",
       "    <tr>\n",
       "      <th>min</th>\n",
       "      <td>2.000000</td>\n",
       "      <td>0.000000</td>\n",
       "      <td>7670.000000</td>\n",
       "      <td>2.403000e+04</td>\n",
       "      <td>0.000000</td>\n",
       "      <td>0.000000</td>\n",
       "      <td>0.000000</td>\n",
       "      <td>91.900000</td>\n",
       "      <td>2.000000</td>\n",
       "      <td>1200.000000</td>\n",
       "      <td>0.000000</td>\n",
       "    </tr>\n",
       "    <tr>\n",
       "      <th>25%</th>\n",
       "      <td>28640.000000</td>\n",
       "      <td>0.034000</td>\n",
       "      <td>14974.000000</td>\n",
       "      <td>1.080100e+05</td>\n",
       "      <td>0.000000</td>\n",
       "      <td>0.000000</td>\n",
       "      <td>0.000000</td>\n",
       "      <td>98.830000</td>\n",
       "      <td>7.000000</td>\n",
       "      <td>5400.000000</td>\n",
       "      <td>1.000000</td>\n",
       "    </tr>\n",
       "    <tr>\n",
       "      <th>50%</th>\n",
       "      <td>57262.000000</td>\n",
       "      <td>0.167000</td>\n",
       "      <td>18625.000000</td>\n",
       "      <td>1.665600e+05</td>\n",
       "      <td>0.000000</td>\n",
       "      <td>0.000000</td>\n",
       "      <td>0.000000</td>\n",
       "      <td>99.210000</td>\n",
       "      <td>10.000000</td>\n",
       "      <td>7500.000000</td>\n",
       "      <td>1.000000</td>\n",
       "    </tr>\n",
       "    <tr>\n",
       "      <th>75%</th>\n",
       "      <td>85632.000000</td>\n",
       "      <td>0.538000</td>\n",
       "      <td>22636.000000</td>\n",
       "      <td>2.520900e+05</td>\n",
       "      <td>0.000000</td>\n",
       "      <td>0.000000</td>\n",
       "      <td>0.000000</td>\n",
       "      <td>99.520000</td>\n",
       "      <td>14.000000</td>\n",
       "      <td>13800.000000</td>\n",
       "      <td>1.000000</td>\n",
       "    </tr>\n",
       "    <tr>\n",
       "      <th>max</th>\n",
       "      <td>114076.000000</td>\n",
       "      <td>1.000000</td>\n",
       "      <td>37602.000000</td>\n",
       "      <td>9.026260e+07</td>\n",
       "      <td>13.000000</td>\n",
       "      <td>17.000000</td>\n",
       "      <td>11.000000</td>\n",
       "      <td>99.890000</td>\n",
       "      <td>60.000000</td>\n",
       "      <td>60000.000000</td>\n",
       "      <td>1.000000</td>\n",
       "    </tr>\n",
       "  </tbody>\n",
       "</table>\n",
       "</div>"
      ],
      "text/plain": [
       "                  id  perc_premium_paid_by_cash_credit   age_in_days  \\\n",
       "count   79853.000000                      79853.000000  79853.000000   \n",
       "mean    57167.166368                          0.314288  18846.696906   \n",
       "std     32928.970160                          0.334915   5208.719136   \n",
       "min         2.000000                          0.000000   7670.000000   \n",
       "25%     28640.000000                          0.034000  14974.000000   \n",
       "50%     57262.000000                          0.167000  18625.000000   \n",
       "75%     85632.000000                          0.538000  22636.000000   \n",
       "max    114076.000000                          1.000000  37602.000000   \n",
       "\n",
       "             Income  Count_3-6_months_late  Count_6-12_months_late  \\\n",
       "count  7.985300e+04           79853.000000            79853.000000   \n",
       "mean   2.088472e+05               0.248369                0.078093   \n",
       "std    4.965826e+05               0.691102                0.436251   \n",
       "min    2.403000e+04               0.000000                0.000000   \n",
       "25%    1.080100e+05               0.000000                0.000000   \n",
       "50%    1.665600e+05               0.000000                0.000000   \n",
       "75%    2.520900e+05               0.000000                0.000000   \n",
       "max    9.026260e+07              13.000000               17.000000   \n",
       "\n",
       "       Count_more_than_12_months_late  application_underwriting_score  \\\n",
       "count                    79853.000000                    79853.000000   \n",
       "mean                         0.059935                       99.072606   \n",
       "std                          0.311840                        0.726395   \n",
       "min                          0.000000                       91.900000   \n",
       "25%                          0.000000                       98.830000   \n",
       "50%                          0.000000                       99.210000   \n",
       "75%                          0.000000                       99.520000   \n",
       "max                         11.000000                       99.890000   \n",
       "\n",
       "       no_of_premiums_paid       premium        target  \n",
       "count         79853.000000  79853.000000  79853.000000  \n",
       "mean             10.863887  10924.507533      0.937397  \n",
       "std               5.170687   9401.676542      0.242248  \n",
       "min               2.000000   1200.000000      0.000000  \n",
       "25%               7.000000   5400.000000      1.000000  \n",
       "50%              10.000000   7500.000000      1.000000  \n",
       "75%              14.000000  13800.000000      1.000000  \n",
       "max              60.000000  60000.000000      1.000000  "
      ]
     },
     "execution_count": 15,
     "metadata": {},
     "output_type": "execute_result"
    }
   ],
   "source": [
    "#summary statistics\n",
    "train.describe()"
   ]
  },
  {
   "cell_type": "code",
   "execution_count": 16,
   "id": "c84f8d0f",
   "metadata": {
    "scrolled": true
   },
   "outputs": [
    {
     "data": {
      "text/html": [
       "<div>\n",
       "<style scoped>\n",
       "    .dataframe tbody tr th:only-of-type {\n",
       "        vertical-align: middle;\n",
       "    }\n",
       "\n",
       "    .dataframe tbody tr th {\n",
       "        vertical-align: top;\n",
       "    }\n",
       "\n",
       "    .dataframe thead th {\n",
       "        text-align: right;\n",
       "    }\n",
       "</style>\n",
       "<table border=\"1\" class=\"dataframe\">\n",
       "  <thead>\n",
       "    <tr style=\"text-align: right;\">\n",
       "      <th></th>\n",
       "      <th>id</th>\n",
       "      <th>perc_premium_paid_by_cash_credit</th>\n",
       "      <th>age_in_days</th>\n",
       "      <th>Income</th>\n",
       "      <th>Count_3-6_months_late</th>\n",
       "      <th>Count_6-12_months_late</th>\n",
       "      <th>Count_more_than_12_months_late</th>\n",
       "      <th>application_underwriting_score</th>\n",
       "      <th>no_of_premiums_paid</th>\n",
       "    </tr>\n",
       "  </thead>\n",
       "  <tbody>\n",
       "    <tr>\n",
       "      <th>count</th>\n",
       "      <td>34224.000000</td>\n",
       "      <td>34224.000000</td>\n",
       "      <td>34224.000000</td>\n",
       "      <td>3.422400e+04</td>\n",
       "      <td>34224.000000</td>\n",
       "      <td>34224.000000</td>\n",
       "      <td>34224.000000</td>\n",
       "      <td>34224.000000</td>\n",
       "      <td>34224.000000</td>\n",
       "    </tr>\n",
       "    <tr>\n",
       "      <th>mean</th>\n",
       "      <td>56739.956376</td>\n",
       "      <td>0.314457</td>\n",
       "      <td>18824.215346</td>\n",
       "      <td>2.028201e+05</td>\n",
       "      <td>0.238517</td>\n",
       "      <td>0.080645</td>\n",
       "      <td>0.058059</td>\n",
       "      <td>99.067623</td>\n",
       "      <td>10.890428</td>\n",
       "    </tr>\n",
       "    <tr>\n",
       "      <th>std</th>\n",
       "      <td>32935.402647</td>\n",
       "      <td>0.334059</td>\n",
       "      <td>5246.525604</td>\n",
       "      <td>2.702536e+05</td>\n",
       "      <td>0.685889</td>\n",
       "      <td>0.454435</td>\n",
       "      <td>0.306912</td>\n",
       "      <td>0.728999</td>\n",
       "      <td>5.216867</td>\n",
       "    </tr>\n",
       "    <tr>\n",
       "      <th>min</th>\n",
       "      <td>1.000000</td>\n",
       "      <td>0.000000</td>\n",
       "      <td>7671.000000</td>\n",
       "      <td>2.403000e+04</td>\n",
       "      <td>0.000000</td>\n",
       "      <td>0.000000</td>\n",
       "      <td>0.000000</td>\n",
       "      <td>91.900000</td>\n",
       "      <td>2.000000</td>\n",
       "    </tr>\n",
       "    <tr>\n",
       "      <th>25%</th>\n",
       "      <td>28254.750000</td>\n",
       "      <td>0.034000</td>\n",
       "      <td>14972.000000</td>\n",
       "      <td>1.063975e+05</td>\n",
       "      <td>0.000000</td>\n",
       "      <td>0.000000</td>\n",
       "      <td>0.000000</td>\n",
       "      <td>98.830000</td>\n",
       "      <td>7.000000</td>\n",
       "    </tr>\n",
       "    <tr>\n",
       "      <th>50%</th>\n",
       "      <td>56488.000000</td>\n",
       "      <td>0.169000</td>\n",
       "      <td>18623.000000</td>\n",
       "      <td>1.650700e+05</td>\n",
       "      <td>0.000000</td>\n",
       "      <td>0.000000</td>\n",
       "      <td>0.000000</td>\n",
       "      <td>99.210000</td>\n",
       "      <td>10.000000</td>\n",
       "    </tr>\n",
       "    <tr>\n",
       "      <th>75%</th>\n",
       "      <td>85386.250000</td>\n",
       "      <td>0.540000</td>\n",
       "      <td>22636.000000</td>\n",
       "      <td>2.500200e+05</td>\n",
       "      <td>0.000000</td>\n",
       "      <td>0.000000</td>\n",
       "      <td>0.000000</td>\n",
       "      <td>99.520000</td>\n",
       "      <td>14.000000</td>\n",
       "    </tr>\n",
       "    <tr>\n",
       "      <th>max</th>\n",
       "      <td>114077.000000</td>\n",
       "      <td>1.000000</td>\n",
       "      <td>35785.000000</td>\n",
       "      <td>2.191455e+07</td>\n",
       "      <td>12.000000</td>\n",
       "      <td>10.000000</td>\n",
       "      <td>7.000000</td>\n",
       "      <td>99.890000</td>\n",
       "      <td>59.000000</td>\n",
       "    </tr>\n",
       "  </tbody>\n",
       "</table>\n",
       "</div>"
      ],
      "text/plain": [
       "                  id  perc_premium_paid_by_cash_credit   age_in_days  \\\n",
       "count   34224.000000                      34224.000000  34224.000000   \n",
       "mean    56739.956376                          0.314457  18824.215346   \n",
       "std     32935.402647                          0.334059   5246.525604   \n",
       "min         1.000000                          0.000000   7671.000000   \n",
       "25%     28254.750000                          0.034000  14972.000000   \n",
       "50%     56488.000000                          0.169000  18623.000000   \n",
       "75%     85386.250000                          0.540000  22636.000000   \n",
       "max    114077.000000                          1.000000  35785.000000   \n",
       "\n",
       "             Income  Count_3-6_months_late  Count_6-12_months_late  \\\n",
       "count  3.422400e+04           34224.000000            34224.000000   \n",
       "mean   2.028201e+05               0.238517                0.080645   \n",
       "std    2.702536e+05               0.685889                0.454435   \n",
       "min    2.403000e+04               0.000000                0.000000   \n",
       "25%    1.063975e+05               0.000000                0.000000   \n",
       "50%    1.650700e+05               0.000000                0.000000   \n",
       "75%    2.500200e+05               0.000000                0.000000   \n",
       "max    2.191455e+07              12.000000               10.000000   \n",
       "\n",
       "       Count_more_than_12_months_late  application_underwriting_score  \\\n",
       "count                    34224.000000                    34224.000000   \n",
       "mean                         0.058059                       99.067623   \n",
       "std                          0.306912                        0.728999   \n",
       "min                          0.000000                       91.900000   \n",
       "25%                          0.000000                       98.830000   \n",
       "50%                          0.000000                       99.210000   \n",
       "75%                          0.000000                       99.520000   \n",
       "max                          7.000000                       99.890000   \n",
       "\n",
       "       no_of_premiums_paid  \n",
       "count         34224.000000  \n",
       "mean             10.890428  \n",
       "std               5.216867  \n",
       "min               2.000000  \n",
       "25%               7.000000  \n",
       "50%              10.000000  \n",
       "75%              14.000000  \n",
       "max              59.000000  "
      ]
     },
     "execution_count": 16,
     "metadata": {},
     "output_type": "execute_result"
    }
   ],
   "source": [
    "test.describe()"
   ]
  },
  {
   "cell_type": "code",
   "execution_count": 17,
   "id": "c16b3021",
   "metadata": {},
   "outputs": [
    {
     "data": {
      "text/html": [
       "<div>\n",
       "<style scoped>\n",
       "    .dataframe tbody tr th:only-of-type {\n",
       "        vertical-align: middle;\n",
       "    }\n",
       "\n",
       "    .dataframe tbody tr th {\n",
       "        vertical-align: top;\n",
       "    }\n",
       "\n",
       "    .dataframe thead th {\n",
       "        text-align: right;\n",
       "    }\n",
       "</style>\n",
       "<table border=\"1\" class=\"dataframe\">\n",
       "  <thead>\n",
       "    <tr style=\"text-align: right;\">\n",
       "      <th></th>\n",
       "      <th>id</th>\n",
       "      <th>perc_premium_paid_by_cash_credit</th>\n",
       "      <th>age_in_days</th>\n",
       "      <th>Income</th>\n",
       "      <th>Count_3-6_months_late</th>\n",
       "      <th>Count_6-12_months_late</th>\n",
       "      <th>Count_more_than_12_months_late</th>\n",
       "      <th>application_underwriting_score</th>\n",
       "      <th>no_of_premiums_paid</th>\n",
       "      <th>premium</th>\n",
       "      <th>target</th>\n",
       "    </tr>\n",
       "  </thead>\n",
       "  <tbody>\n",
       "    <tr>\n",
       "      <th>id</th>\n",
       "      <td>1.000000</td>\n",
       "      <td>-0.004833</td>\n",
       "      <td>0.005184</td>\n",
       "      <td>-0.001798</td>\n",
       "      <td>-0.005643</td>\n",
       "      <td>-0.002117</td>\n",
       "      <td>0.003429</td>\n",
       "      <td>-0.002017</td>\n",
       "      <td>-0.003328</td>\n",
       "      <td>0.003430</td>\n",
       "      <td>-0.005147</td>\n",
       "    </tr>\n",
       "    <tr>\n",
       "      <th>perc_premium_paid_by_cash_credit</th>\n",
       "      <td>-0.004833</td>\n",
       "      <td>1.000000</td>\n",
       "      <td>-0.259131</td>\n",
       "      <td>-0.031868</td>\n",
       "      <td>0.213011</td>\n",
       "      <td>0.213953</td>\n",
       "      <td>0.167213</td>\n",
       "      <td>-0.138308</td>\n",
       "      <td>-0.152837</td>\n",
       "      <td>-0.067523</td>\n",
       "      <td>-0.241064</td>\n",
       "    </tr>\n",
       "    <tr>\n",
       "      <th>age_in_days</th>\n",
       "      <td>0.005184</td>\n",
       "      <td>-0.259131</td>\n",
       "      <td>1.000000</td>\n",
       "      <td>0.029308</td>\n",
       "      <td>-0.057874</td>\n",
       "      <td>-0.072439</td>\n",
       "      <td>-0.059114</td>\n",
       "      <td>0.049582</td>\n",
       "      <td>0.176544</td>\n",
       "      <td>0.074070</td>\n",
       "      <td>0.095158</td>\n",
       "    </tr>\n",
       "    <tr>\n",
       "      <th>Income</th>\n",
       "      <td>-0.001798</td>\n",
       "      <td>-0.031868</td>\n",
       "      <td>0.029308</td>\n",
       "      <td>1.000000</td>\n",
       "      <td>-0.001296</td>\n",
       "      <td>-0.017292</td>\n",
       "      <td>-0.012341</td>\n",
       "      <td>0.062612</td>\n",
       "      <td>0.079078</td>\n",
       "      <td>0.302825</td>\n",
       "      <td>0.016542</td>\n",
       "    </tr>\n",
       "    <tr>\n",
       "      <th>Count_3-6_months_late</th>\n",
       "      <td>-0.005643</td>\n",
       "      <td>0.213011</td>\n",
       "      <td>-0.057874</td>\n",
       "      <td>-0.001296</td>\n",
       "      <td>1.000000</td>\n",
       "      <td>0.204286</td>\n",
       "      <td>0.296139</td>\n",
       "      <td>-0.083875</td>\n",
       "      <td>0.076435</td>\n",
       "      <td>-0.000819</td>\n",
       "      <td>-0.246427</td>\n",
       "    </tr>\n",
       "    <tr>\n",
       "      <th>Count_6-12_months_late</th>\n",
       "      <td>-0.002117</td>\n",
       "      <td>0.213953</td>\n",
       "      <td>-0.072439</td>\n",
       "      <td>-0.017292</td>\n",
       "      <td>0.204286</td>\n",
       "      <td>1.000000</td>\n",
       "      <td>0.266337</td>\n",
       "      <td>0.005090</td>\n",
       "      <td>-0.092593</td>\n",
       "      <td>-0.043642</td>\n",
       "      <td>-0.283998</td>\n",
       "    </tr>\n",
       "    <tr>\n",
       "      <th>Count_more_than_12_months_late</th>\n",
       "      <td>0.003429</td>\n",
       "      <td>0.167213</td>\n",
       "      <td>-0.059114</td>\n",
       "      <td>-0.012341</td>\n",
       "      <td>0.296139</td>\n",
       "      <td>0.266337</td>\n",
       "      <td>1.000000</td>\n",
       "      <td>-0.032233</td>\n",
       "      <td>-0.021409</td>\n",
       "      <td>-0.023462</td>\n",
       "      <td>-0.238450</td>\n",
       "    </tr>\n",
       "    <tr>\n",
       "      <th>application_underwriting_score</th>\n",
       "      <td>-0.002017</td>\n",
       "      <td>-0.138308</td>\n",
       "      <td>0.049582</td>\n",
       "      <td>0.062612</td>\n",
       "      <td>-0.083875</td>\n",
       "      <td>0.005090</td>\n",
       "      <td>-0.032233</td>\n",
       "      <td>1.000000</td>\n",
       "      <td>-0.269273</td>\n",
       "      <td>0.131042</td>\n",
       "      <td>0.067129</td>\n",
       "    </tr>\n",
       "    <tr>\n",
       "      <th>no_of_premiums_paid</th>\n",
       "      <td>-0.003328</td>\n",
       "      <td>-0.152837</td>\n",
       "      <td>0.176544</td>\n",
       "      <td>0.079078</td>\n",
       "      <td>0.076435</td>\n",
       "      <td>-0.092593</td>\n",
       "      <td>-0.021409</td>\n",
       "      <td>-0.269273</td>\n",
       "      <td>1.000000</td>\n",
       "      <td>0.191889</td>\n",
       "      <td>0.022741</td>\n",
       "    </tr>\n",
       "    <tr>\n",
       "      <th>premium</th>\n",
       "      <td>0.003430</td>\n",
       "      <td>-0.067523</td>\n",
       "      <td>0.074070</td>\n",
       "      <td>0.302825</td>\n",
       "      <td>-0.000819</td>\n",
       "      <td>-0.043642</td>\n",
       "      <td>-0.023462</td>\n",
       "      <td>0.131042</td>\n",
       "      <td>0.191889</td>\n",
       "      <td>1.000000</td>\n",
       "      <td>0.036420</td>\n",
       "    </tr>\n",
       "    <tr>\n",
       "      <th>target</th>\n",
       "      <td>-0.005147</td>\n",
       "      <td>-0.241064</td>\n",
       "      <td>0.095158</td>\n",
       "      <td>0.016542</td>\n",
       "      <td>-0.246427</td>\n",
       "      <td>-0.283998</td>\n",
       "      <td>-0.238450</td>\n",
       "      <td>0.067129</td>\n",
       "      <td>0.022741</td>\n",
       "      <td>0.036420</td>\n",
       "      <td>1.000000</td>\n",
       "    </tr>\n",
       "  </tbody>\n",
       "</table>\n",
       "</div>"
      ],
      "text/plain": [
       "                                        id  perc_premium_paid_by_cash_credit  \\\n",
       "id                                1.000000                         -0.004833   \n",
       "perc_premium_paid_by_cash_credit -0.004833                          1.000000   \n",
       "age_in_days                       0.005184                         -0.259131   \n",
       "Income                           -0.001798                         -0.031868   \n",
       "Count_3-6_months_late            -0.005643                          0.213011   \n",
       "Count_6-12_months_late           -0.002117                          0.213953   \n",
       "Count_more_than_12_months_late    0.003429                          0.167213   \n",
       "application_underwriting_score   -0.002017                         -0.138308   \n",
       "no_of_premiums_paid              -0.003328                         -0.152837   \n",
       "premium                           0.003430                         -0.067523   \n",
       "target                           -0.005147                         -0.241064   \n",
       "\n",
       "                                  age_in_days    Income  \\\n",
       "id                                   0.005184 -0.001798   \n",
       "perc_premium_paid_by_cash_credit    -0.259131 -0.031868   \n",
       "age_in_days                          1.000000  0.029308   \n",
       "Income                               0.029308  1.000000   \n",
       "Count_3-6_months_late               -0.057874 -0.001296   \n",
       "Count_6-12_months_late              -0.072439 -0.017292   \n",
       "Count_more_than_12_months_late      -0.059114 -0.012341   \n",
       "application_underwriting_score       0.049582  0.062612   \n",
       "no_of_premiums_paid                  0.176544  0.079078   \n",
       "premium                              0.074070  0.302825   \n",
       "target                               0.095158  0.016542   \n",
       "\n",
       "                                  Count_3-6_months_late  \\\n",
       "id                                            -0.005643   \n",
       "perc_premium_paid_by_cash_credit               0.213011   \n",
       "age_in_days                                   -0.057874   \n",
       "Income                                        -0.001296   \n",
       "Count_3-6_months_late                          1.000000   \n",
       "Count_6-12_months_late                         0.204286   \n",
       "Count_more_than_12_months_late                 0.296139   \n",
       "application_underwriting_score                -0.083875   \n",
       "no_of_premiums_paid                            0.076435   \n",
       "premium                                       -0.000819   \n",
       "target                                        -0.246427   \n",
       "\n",
       "                                  Count_6-12_months_late  \\\n",
       "id                                             -0.002117   \n",
       "perc_premium_paid_by_cash_credit                0.213953   \n",
       "age_in_days                                    -0.072439   \n",
       "Income                                         -0.017292   \n",
       "Count_3-6_months_late                           0.204286   \n",
       "Count_6-12_months_late                          1.000000   \n",
       "Count_more_than_12_months_late                  0.266337   \n",
       "application_underwriting_score                  0.005090   \n",
       "no_of_premiums_paid                            -0.092593   \n",
       "premium                                        -0.043642   \n",
       "target                                         -0.283998   \n",
       "\n",
       "                                  Count_more_than_12_months_late  \\\n",
       "id                                                      0.003429   \n",
       "perc_premium_paid_by_cash_credit                        0.167213   \n",
       "age_in_days                                            -0.059114   \n",
       "Income                                                 -0.012341   \n",
       "Count_3-6_months_late                                   0.296139   \n",
       "Count_6-12_months_late                                  0.266337   \n",
       "Count_more_than_12_months_late                          1.000000   \n",
       "application_underwriting_score                         -0.032233   \n",
       "no_of_premiums_paid                                    -0.021409   \n",
       "premium                                                -0.023462   \n",
       "target                                                 -0.238450   \n",
       "\n",
       "                                  application_underwriting_score  \\\n",
       "id                                                     -0.002017   \n",
       "perc_premium_paid_by_cash_credit                       -0.138308   \n",
       "age_in_days                                             0.049582   \n",
       "Income                                                  0.062612   \n",
       "Count_3-6_months_late                                  -0.083875   \n",
       "Count_6-12_months_late                                  0.005090   \n",
       "Count_more_than_12_months_late                         -0.032233   \n",
       "application_underwriting_score                          1.000000   \n",
       "no_of_premiums_paid                                    -0.269273   \n",
       "premium                                                 0.131042   \n",
       "target                                                  0.067129   \n",
       "\n",
       "                                  no_of_premiums_paid   premium    target  \n",
       "id                                          -0.003328  0.003430 -0.005147  \n",
       "perc_premium_paid_by_cash_credit            -0.152837 -0.067523 -0.241064  \n",
       "age_in_days                                  0.176544  0.074070  0.095158  \n",
       "Income                                       0.079078  0.302825  0.016542  \n",
       "Count_3-6_months_late                        0.076435 -0.000819 -0.246427  \n",
       "Count_6-12_months_late                      -0.092593 -0.043642 -0.283998  \n",
       "Count_more_than_12_months_late              -0.021409 -0.023462 -0.238450  \n",
       "application_underwriting_score              -0.269273  0.131042  0.067129  \n",
       "no_of_premiums_paid                          1.000000  0.191889  0.022741  \n",
       "premium                                      0.191889  1.000000  0.036420  \n",
       "target                                       0.022741  0.036420  1.000000  "
      ]
     },
     "execution_count": 17,
     "metadata": {},
     "output_type": "execute_result"
    }
   ],
   "source": [
    "train.corr()"
   ]
  },
  {
   "cell_type": "code",
   "execution_count": 18,
   "id": "1dc23919",
   "metadata": {},
   "outputs": [
    {
     "data": {
      "text/html": [
       "<div>\n",
       "<style scoped>\n",
       "    .dataframe tbody tr th:only-of-type {\n",
       "        vertical-align: middle;\n",
       "    }\n",
       "\n",
       "    .dataframe tbody tr th {\n",
       "        vertical-align: top;\n",
       "    }\n",
       "\n",
       "    .dataframe thead th {\n",
       "        text-align: right;\n",
       "    }\n",
       "</style>\n",
       "<table border=\"1\" class=\"dataframe\">\n",
       "  <thead>\n",
       "    <tr style=\"text-align: right;\">\n",
       "      <th></th>\n",
       "      <th>id</th>\n",
       "      <th>perc_premium_paid_by_cash_credit</th>\n",
       "      <th>age_in_days</th>\n",
       "      <th>Income</th>\n",
       "      <th>Count_3-6_months_late</th>\n",
       "      <th>Count_6-12_months_late</th>\n",
       "      <th>Count_more_than_12_months_late</th>\n",
       "      <th>application_underwriting_score</th>\n",
       "      <th>no_of_premiums_paid</th>\n",
       "    </tr>\n",
       "  </thead>\n",
       "  <tbody>\n",
       "    <tr>\n",
       "      <th>id</th>\n",
       "      <td>1.000000</td>\n",
       "      <td>-0.007210</td>\n",
       "      <td>0.004833</td>\n",
       "      <td>-0.003724</td>\n",
       "      <td>0.005055</td>\n",
       "      <td>0.003159</td>\n",
       "      <td>0.001179</td>\n",
       "      <td>-0.002782</td>\n",
       "      <td>-0.003345</td>\n",
       "    </tr>\n",
       "    <tr>\n",
       "      <th>perc_premium_paid_by_cash_credit</th>\n",
       "      <td>-0.007210</td>\n",
       "      <td>1.000000</td>\n",
       "      <td>-0.248261</td>\n",
       "      <td>-0.046983</td>\n",
       "      <td>0.213778</td>\n",
       "      <td>0.216918</td>\n",
       "      <td>0.164702</td>\n",
       "      <td>-0.141876</td>\n",
       "      <td>-0.155263</td>\n",
       "    </tr>\n",
       "    <tr>\n",
       "      <th>age_in_days</th>\n",
       "      <td>0.004833</td>\n",
       "      <td>-0.248261</td>\n",
       "      <td>1.000000</td>\n",
       "      <td>0.052833</td>\n",
       "      <td>-0.052100</td>\n",
       "      <td>-0.067834</td>\n",
       "      <td>-0.054334</td>\n",
       "      <td>0.040634</td>\n",
       "      <td>0.172958</td>\n",
       "    </tr>\n",
       "    <tr>\n",
       "      <th>Income</th>\n",
       "      <td>-0.003724</td>\n",
       "      <td>-0.046983</td>\n",
       "      <td>0.052833</td>\n",
       "      <td>1.000000</td>\n",
       "      <td>-0.000322</td>\n",
       "      <td>-0.030315</td>\n",
       "      <td>-0.002955</td>\n",
       "      <td>0.102614</td>\n",
       "      <td>0.129228</td>\n",
       "    </tr>\n",
       "    <tr>\n",
       "      <th>Count_3-6_months_late</th>\n",
       "      <td>0.005055</td>\n",
       "      <td>0.213778</td>\n",
       "      <td>-0.052100</td>\n",
       "      <td>-0.000322</td>\n",
       "      <td>1.000000</td>\n",
       "      <td>0.205183</td>\n",
       "      <td>0.275682</td>\n",
       "      <td>-0.093243</td>\n",
       "      <td>0.077166</td>\n",
       "    </tr>\n",
       "    <tr>\n",
       "      <th>Count_6-12_months_late</th>\n",
       "      <td>0.003159</td>\n",
       "      <td>0.216918</td>\n",
       "      <td>-0.067834</td>\n",
       "      <td>-0.030315</td>\n",
       "      <td>0.205183</td>\n",
       "      <td>1.000000</td>\n",
       "      <td>0.300590</td>\n",
       "      <td>-0.010218</td>\n",
       "      <td>-0.084288</td>\n",
       "    </tr>\n",
       "    <tr>\n",
       "      <th>Count_more_than_12_months_late</th>\n",
       "      <td>0.001179</td>\n",
       "      <td>0.164702</td>\n",
       "      <td>-0.054334</td>\n",
       "      <td>-0.002955</td>\n",
       "      <td>0.275682</td>\n",
       "      <td>0.300590</td>\n",
       "      <td>1.000000</td>\n",
       "      <td>-0.036073</td>\n",
       "      <td>-0.016010</td>\n",
       "    </tr>\n",
       "    <tr>\n",
       "      <th>application_underwriting_score</th>\n",
       "      <td>-0.002782</td>\n",
       "      <td>-0.141876</td>\n",
       "      <td>0.040634</td>\n",
       "      <td>0.102614</td>\n",
       "      <td>-0.093243</td>\n",
       "      <td>-0.010218</td>\n",
       "      <td>-0.036073</td>\n",
       "      <td>1.000000</td>\n",
       "      <td>-0.274278</td>\n",
       "    </tr>\n",
       "    <tr>\n",
       "      <th>no_of_premiums_paid</th>\n",
       "      <td>-0.003345</td>\n",
       "      <td>-0.155263</td>\n",
       "      <td>0.172958</td>\n",
       "      <td>0.129228</td>\n",
       "      <td>0.077166</td>\n",
       "      <td>-0.084288</td>\n",
       "      <td>-0.016010</td>\n",
       "      <td>-0.274278</td>\n",
       "      <td>1.000000</td>\n",
       "    </tr>\n",
       "  </tbody>\n",
       "</table>\n",
       "</div>"
      ],
      "text/plain": [
       "                                        id  perc_premium_paid_by_cash_credit  \\\n",
       "id                                1.000000                         -0.007210   \n",
       "perc_premium_paid_by_cash_credit -0.007210                          1.000000   \n",
       "age_in_days                       0.004833                         -0.248261   \n",
       "Income                           -0.003724                         -0.046983   \n",
       "Count_3-6_months_late             0.005055                          0.213778   \n",
       "Count_6-12_months_late            0.003159                          0.216918   \n",
       "Count_more_than_12_months_late    0.001179                          0.164702   \n",
       "application_underwriting_score   -0.002782                         -0.141876   \n",
       "no_of_premiums_paid              -0.003345                         -0.155263   \n",
       "\n",
       "                                  age_in_days    Income  \\\n",
       "id                                   0.004833 -0.003724   \n",
       "perc_premium_paid_by_cash_credit    -0.248261 -0.046983   \n",
       "age_in_days                          1.000000  0.052833   \n",
       "Income                               0.052833  1.000000   \n",
       "Count_3-6_months_late               -0.052100 -0.000322   \n",
       "Count_6-12_months_late              -0.067834 -0.030315   \n",
       "Count_more_than_12_months_late      -0.054334 -0.002955   \n",
       "application_underwriting_score       0.040634  0.102614   \n",
       "no_of_premiums_paid                  0.172958  0.129228   \n",
       "\n",
       "                                  Count_3-6_months_late  \\\n",
       "id                                             0.005055   \n",
       "perc_premium_paid_by_cash_credit               0.213778   \n",
       "age_in_days                                   -0.052100   \n",
       "Income                                        -0.000322   \n",
       "Count_3-6_months_late                          1.000000   \n",
       "Count_6-12_months_late                         0.205183   \n",
       "Count_more_than_12_months_late                 0.275682   \n",
       "application_underwriting_score                -0.093243   \n",
       "no_of_premiums_paid                            0.077166   \n",
       "\n",
       "                                  Count_6-12_months_late  \\\n",
       "id                                              0.003159   \n",
       "perc_premium_paid_by_cash_credit                0.216918   \n",
       "age_in_days                                    -0.067834   \n",
       "Income                                         -0.030315   \n",
       "Count_3-6_months_late                           0.205183   \n",
       "Count_6-12_months_late                          1.000000   \n",
       "Count_more_than_12_months_late                  0.300590   \n",
       "application_underwriting_score                 -0.010218   \n",
       "no_of_premiums_paid                            -0.084288   \n",
       "\n",
       "                                  Count_more_than_12_months_late  \\\n",
       "id                                                      0.001179   \n",
       "perc_premium_paid_by_cash_credit                        0.164702   \n",
       "age_in_days                                            -0.054334   \n",
       "Income                                                 -0.002955   \n",
       "Count_3-6_months_late                                   0.275682   \n",
       "Count_6-12_months_late                                  0.300590   \n",
       "Count_more_than_12_months_late                          1.000000   \n",
       "application_underwriting_score                         -0.036073   \n",
       "no_of_premiums_paid                                    -0.016010   \n",
       "\n",
       "                                  application_underwriting_score  \\\n",
       "id                                                     -0.002782   \n",
       "perc_premium_paid_by_cash_credit                       -0.141876   \n",
       "age_in_days                                             0.040634   \n",
       "Income                                                  0.102614   \n",
       "Count_3-6_months_late                                  -0.093243   \n",
       "Count_6-12_months_late                                 -0.010218   \n",
       "Count_more_than_12_months_late                         -0.036073   \n",
       "application_underwriting_score                          1.000000   \n",
       "no_of_premiums_paid                                    -0.274278   \n",
       "\n",
       "                                  no_of_premiums_paid  \n",
       "id                                          -0.003345  \n",
       "perc_premium_paid_by_cash_credit            -0.155263  \n",
       "age_in_days                                  0.172958  \n",
       "Income                                       0.129228  \n",
       "Count_3-6_months_late                        0.077166  \n",
       "Count_6-12_months_late                      -0.084288  \n",
       "Count_more_than_12_months_late              -0.016010  \n",
       "application_underwriting_score              -0.274278  \n",
       "no_of_premiums_paid                          1.000000  "
      ]
     },
     "execution_count": 18,
     "metadata": {},
     "output_type": "execute_result"
    }
   ],
   "source": [
    "test.corr()"
   ]
  },
  {
   "cell_type": "code",
   "execution_count": 19,
   "id": "5bd342f4",
   "metadata": {
    "scrolled": true
   },
   "outputs": [
    {
     "data": {
      "image/png": "[encoded data removed]",
      "text/plain": [
       "<Figure size 432x288 with 1 Axes>"
      ]
     },
     "metadata": {
      "needs_background": "light"
     },
     "output_type": "display_data"
    },
    {
     "data": {
      "image/png": "[encoded data removed]",
      "text/plain": [
       "<Figure size 432x288 with 1 Axes>"
      ]
     },
     "metadata": {
      "needs_background": "light"
     },
     "output_type": "display_data"
    },
    {
     "data": {
      "image/png": "[encoded data removed]",
      "text/plain": [
       "<Figure size 432x288 with 1 Axes>"
      ]
     },
     "metadata": {
      "needs_background": "light"
     },
     "output_type": "display_data"
    },
    {
     "data": {
      "image/png": "[encoded data removed]",
      "text/plain": [
       "<Figure size 432x288 with 1 Axes>"
      ]
     },
     "metadata": {
      "needs_background": "light"
     },
     "output_type": "display_data"
    },
    {
     "data": {
      "image/png": "[encoded data removed]",
      "text/plain": [
       "<Figure size 432x288 with 1 Axes>"
      ]
     },
     "metadata": {
      "needs_background": "light"
     },
     "output_type": "display_data"
    },
    {
     "data": {
      "image/png": "[encoded data removed]",
      "text/plain": [
       "<Figure size 432x288 with 1 Axes>"
      ]
     },
     "metadata": {
      "needs_background": "light"
     },
     "output_type": "display_data"
    },
    {
     "data": {
      "image/png": "[encoded data removed]",
      "text/plain": [
       "<Figure size 432x288 with 1 Axes>"
      ]
     },
     "metadata": {
      "needs_background": "light"
     },
     "output_type": "display_data"
    },
    {
     "data": {
      "image/png": "[encoded data removed]",
      "text/plain": [
       "<Figure size 432x288 with 1 Axes>"
      ]
     },
     "metadata": {
      "needs_background": "light"
     },
     "output_type": "display_data"
    },
    {
     "data": {
      "image/png": "[encoded data removed]",
      "text/plain": [
       "<Figure size 432x288 with 1 Axes>"
      ]
     },
     "metadata": {
      "needs_background": "light"
     },
     "output_type": "display_data"
    },
    {
     "data": {
      "text/plain": [
       "<AxesSubplot:xlabel='premium'>"
      ]
     },
     "execution_count": 19,
     "metadata": {},
     "output_type": "execute_result"
    }
   ],
   "source": [
    "#checking for outliers in the numeric columns\n",
    "def viz_outlier(data):\n",
    "    \"\"\"\n",
    "    Visualizing outliers in integer columns.\n",
    "    \n",
    "    parameter\n",
    "    ---------\n",
    "    data : Dataframe\n",
    "          \n",
    "    Returns\n",
    "    -------\n",
    "    Plot\n",
    "        Plot of outliers in the integer columns.\n",
    "    \"\"\"\n",
    "    cols = ['perc_premium_paid_by_cash_credit', 'age_in_days', 'Income', 'Count_3-6_months_late',\n",
    "            'Count_6-12_months_late',  'Count_more_than_12_months_late', 'application_underwriting_score',\n",
    "        'no_of_premiums_paid', 'premium']\n",
    "    for i in cols:\n",
    "        out_plot = sns.boxplot(x = i, data = data, color = \"Blue\")\n",
    "        plt.show()\n",
    "    return out_plot\n",
    "viz_outlier(train)    \n",
    "\n",
    "        "
   ]
  },
  {
   "cell_type": "code",
   "execution_count": 20,
   "id": "440b41d8",
   "metadata": {},
   "outputs": [
    {
     "data": {
      "image/png": "[encoded data removed]",
      "text/plain": [
       "<Figure size 432x288 with 1 Axes>"
      ]
     },
     "metadata": {
      "needs_background": "light"
     },
     "output_type": "display_data"
    },
    {
     "data": {
      "image/png": "[encoded data removed]",
      "text/plain": [
       "<Figure size 432x288 with 1 Axes>"
      ]
     },
     "metadata": {
      "needs_background": "light"
     },
     "output_type": "display_data"
    },
    {
     "data": {
      "image/png": "[encoded data removed]",
      "text/plain": [
       "<Figure size 432x288 with 1 Axes>"
      ]
     },
     "metadata": {
      "needs_background": "light"
     },
     "output_type": "display_data"
    },
    {
     "data": {
      "image/png": "[encoded data removed]",
      "text/plain": [
       "<Figure size 432x288 with 1 Axes>"
      ]
     },
     "metadata": {
      "needs_background": "light"
     },
     "output_type": "display_data"
    },
    {
     "data": {
      "image/png": "[encoded data removed]",
      "text/plain": [
       "<Figure size 432x288 with 1 Axes>"
      ]
     },
     "metadata": {
      "needs_background": "light"
     },
     "output_type": "display_data"
    },
    {
     "data": {
      "image/png": "[encoded data removed]",
      "text/plain": [
       "<Figure size 432x288 with 1 Axes>"
      ]
     },
     "metadata": {
      "needs_background": "light"
     },
     "output_type": "display_data"
    },
    {
     "data": {
      "image/png": "[encoded data removed]",
      "text/plain": [
       "<Figure size 432x288 with 1 Axes>"
      ]
     },
     "metadata": {
      "needs_background": "light"
     },
     "output_type": "display_data"
    },
    {
     "data": {
      "image/png": "[encoded data removed]",
      "text/plain": [
       "<Figure size 432x288 with 1 Axes>"
      ]
     },
     "metadata": {
      "needs_background": "light"
     },
     "output_type": "display_data"
    },
    {
     "ename": "ValueError",
     "evalue": "Could not interpret input 'premium'",
     "output_type": "error",
     "traceback": [
      "\u001b[1;31m---------------------------------------------------------------------------\u001b[0m",
      "\u001b[1;31mValueError\u001b[0m                                Traceback (most recent call last)",
      "Input \u001b[1;32mIn [20]\u001b[0m, in \u001b[0;36m<cell line: 2>\u001b[1;34m()\u001b[0m\n\u001b[0;32m      1\u001b[0m \u001b[38;5;66;03m#detect outlier for the test data\u001b[39;00m\n\u001b[1;32m----> 2\u001b[0m \u001b[43mviz_outlier\u001b[49m\u001b[43m(\u001b[49m\u001b[43mtest\u001b[49m\u001b[43m)\u001b[49m\n",
      "Input \u001b[1;32mIn [19]\u001b[0m, in \u001b[0;36mviz_outlier\u001b[1;34m(data)\u001b[0m\n\u001b[0;32m     15\u001b[0m cols \u001b[38;5;241m=\u001b[39m [\u001b[38;5;124m'\u001b[39m\u001b[38;5;124mperc_premium_paid_by_cash_credit\u001b[39m\u001b[38;5;124m'\u001b[39m, \u001b[38;5;124m'\u001b[39m\u001b[38;5;124mage_in_days\u001b[39m\u001b[38;5;124m'\u001b[39m, \u001b[38;5;124m'\u001b[39m\u001b[38;5;124mIncome\u001b[39m\u001b[38;5;124m'\u001b[39m, \u001b[38;5;124m'\u001b[39m\u001b[38;5;124mCount_3-6_months_late\u001b[39m\u001b[38;5;124m'\u001b[39m,\n\u001b[0;32m     16\u001b[0m         \u001b[38;5;124m'\u001b[39m\u001b[38;5;124mCount_6-12_months_late\u001b[39m\u001b[38;5;124m'\u001b[39m,  \u001b[38;5;124m'\u001b[39m\u001b[38;5;124mCount_more_than_12_months_late\u001b[39m\u001b[38;5;124m'\u001b[39m, \u001b[38;5;124m'\u001b[39m\u001b[38;5;124mapplication_underwriting_score\u001b[39m\u001b[38;5;124m'\u001b[39m,\n\u001b[0;32m     17\u001b[0m     \u001b[38;5;124m'\u001b[39m\u001b[38;5;124mno_of_premiums_paid\u001b[39m\u001b[38;5;124m'\u001b[39m, \u001b[38;5;124m'\u001b[39m\u001b[38;5;124mpremium\u001b[39m\u001b[38;5;124m'\u001b[39m]\n\u001b[0;32m     18\u001b[0m \u001b[38;5;28;01mfor\u001b[39;00m i \u001b[38;5;129;01min\u001b[39;00m cols:\n\u001b[1;32m---> 19\u001b[0m     out_plot \u001b[38;5;241m=\u001b[39m \u001b[43msns\u001b[49m\u001b[38;5;241;43m.\u001b[39;49m\u001b[43mboxplot\u001b[49m\u001b[43m(\u001b[49m\u001b[43mx\u001b[49m\u001b[43m \u001b[49m\u001b[38;5;241;43m=\u001b[39;49m\u001b[43m \u001b[49m\u001b[43mi\u001b[49m\u001b[43m,\u001b[49m\u001b[43m \u001b[49m\u001b[43mdata\u001b[49m\u001b[43m \u001b[49m\u001b[38;5;241;43m=\u001b[39;49m\u001b[43m \u001b[49m\u001b[43mdata\u001b[49m\u001b[43m,\u001b[49m\u001b[43m \u001b[49m\u001b[43mcolor\u001b[49m\u001b[43m \u001b[49m\u001b[38;5;241;43m=\u001b[39;49m\u001b[43m \u001b[49m\u001b[38;5;124;43m\"\u001b[39;49m\u001b[38;5;124;43mBlue\u001b[39;49m\u001b[38;5;124;43m\"\u001b[39;49m\u001b[43m)\u001b[49m\n\u001b[0;32m     20\u001b[0m     plt\u001b[38;5;241m.\u001b[39mshow()\n\u001b[0;32m     21\u001b[0m \u001b[38;5;28;01mreturn\u001b[39;00m out_plot\n",
      "File \u001b[1;32m~\\anaconda3\\lib\\site-packages\\seaborn\\_decorators.py:46\u001b[0m, in \u001b[0;36m_deprecate_positional_args.<locals>.inner_f\u001b[1;34m(*args, **kwargs)\u001b[0m\n\u001b[0;32m     36\u001b[0m     warnings\u001b[38;5;241m.\u001b[39mwarn(\n\u001b[0;32m     37\u001b[0m         \u001b[38;5;124m\"\u001b[39m\u001b[38;5;124mPass the following variable\u001b[39m\u001b[38;5;132;01m{}\u001b[39;00m\u001b[38;5;124m as \u001b[39m\u001b[38;5;132;01m{}\u001b[39;00m\u001b[38;5;124mkeyword arg\u001b[39m\u001b[38;5;132;01m{}\u001b[39;00m\u001b[38;5;124m: \u001b[39m\u001b[38;5;132;01m{}\u001b[39;00m\u001b[38;5;124m. \u001b[39m\u001b[38;5;124m\"\u001b[39m\n\u001b[0;32m     38\u001b[0m         \u001b[38;5;124m\"\u001b[39m\u001b[38;5;124mFrom version 0.12, the only valid positional argument \u001b[39m\u001b[38;5;124m\"\u001b[39m\n\u001b[1;32m   (...)\u001b[0m\n\u001b[0;32m     43\u001b[0m         \u001b[38;5;167;01mFutureWarning\u001b[39;00m\n\u001b[0;32m     44\u001b[0m     )\n\u001b[0;32m     45\u001b[0m kwargs\u001b[38;5;241m.\u001b[39mupdate({k: arg \u001b[38;5;28;01mfor\u001b[39;00m k, arg \u001b[38;5;129;01min\u001b[39;00m \u001b[38;5;28mzip\u001b[39m(sig\u001b[38;5;241m.\u001b[39mparameters, args)})\n\u001b[1;32m---> 46\u001b[0m \u001b[38;5;28;01mreturn\u001b[39;00m f(\u001b[38;5;241m*\u001b[39m\u001b[38;5;241m*\u001b[39mkwargs)\n",
      "File \u001b[1;32m~\\anaconda3\\lib\\site-packages\\seaborn\\categorical.py:2243\u001b[0m, in \u001b[0;36mboxplot\u001b[1;34m(x, y, hue, data, order, hue_order, orient, color, palette, saturation, width, dodge, fliersize, linewidth, whis, ax, **kwargs)\u001b[0m\n\u001b[0;32m   2231\u001b[0m \u001b[38;5;129m@_deprecate_positional_args\u001b[39m\n\u001b[0;32m   2232\u001b[0m \u001b[38;5;28;01mdef\u001b[39;00m \u001b[38;5;21mboxplot\u001b[39m(\n\u001b[0;32m   2233\u001b[0m     \u001b[38;5;241m*\u001b[39m,\n\u001b[1;32m   (...)\u001b[0m\n\u001b[0;32m   2240\u001b[0m     \u001b[38;5;241m*\u001b[39m\u001b[38;5;241m*\u001b[39mkwargs\n\u001b[0;32m   2241\u001b[0m ):\n\u001b[1;32m-> 2243\u001b[0m     plotter \u001b[38;5;241m=\u001b[39m \u001b[43m_BoxPlotter\u001b[49m\u001b[43m(\u001b[49m\u001b[43mx\u001b[49m\u001b[43m,\u001b[49m\u001b[43m \u001b[49m\u001b[43my\u001b[49m\u001b[43m,\u001b[49m\u001b[43m \u001b[49m\u001b[43mhue\u001b[49m\u001b[43m,\u001b[49m\u001b[43m \u001b[49m\u001b[43mdata\u001b[49m\u001b[43m,\u001b[49m\u001b[43m \u001b[49m\u001b[43morder\u001b[49m\u001b[43m,\u001b[49m\u001b[43m \u001b[49m\u001b[43mhue_order\u001b[49m\u001b[43m,\u001b[49m\n\u001b[0;32m   2244\u001b[0m \u001b[43m                          \u001b[49m\u001b[43morient\u001b[49m\u001b[43m,\u001b[49m\u001b[43m \u001b[49m\u001b[43mcolor\u001b[49m\u001b[43m,\u001b[49m\u001b[43m \u001b[49m\u001b[43mpalette\u001b[49m\u001b[43m,\u001b[49m\u001b[43m \u001b[49m\u001b[43msaturation\u001b[49m\u001b[43m,\u001b[49m\n\u001b[0;32m   2245\u001b[0m \u001b[43m                          \u001b[49m\u001b[43mwidth\u001b[49m\u001b[43m,\u001b[49m\u001b[43m \u001b[49m\u001b[43mdodge\u001b[49m\u001b[43m,\u001b[49m\u001b[43m \u001b[49m\u001b[43mfliersize\u001b[49m\u001b[43m,\u001b[49m\u001b[43m \u001b[49m\u001b[43mlinewidth\u001b[49m\u001b[43m)\u001b[49m\n\u001b[0;32m   2247\u001b[0m     \u001b[38;5;28;01mif\u001b[39;00m ax \u001b[38;5;129;01mis\u001b[39;00m \u001b[38;5;28;01mNone\u001b[39;00m:\n\u001b[0;32m   2248\u001b[0m         ax \u001b[38;5;241m=\u001b[39m plt\u001b[38;5;241m.\u001b[39mgca()\n",
      "File \u001b[1;32m~\\anaconda3\\lib\\site-packages\\seaborn\\categorical.py:406\u001b[0m, in \u001b[0;36m_BoxPlotter.__init__\u001b[1;34m(self, x, y, hue, data, order, hue_order, orient, color, palette, saturation, width, dodge, fliersize, linewidth)\u001b[0m\n\u001b[0;32m    402\u001b[0m \u001b[38;5;28;01mdef\u001b[39;00m \u001b[38;5;21m__init__\u001b[39m(\u001b[38;5;28mself\u001b[39m, x, y, hue, data, order, hue_order,\n\u001b[0;32m    403\u001b[0m              orient, color, palette, saturation,\n\u001b[0;32m    404\u001b[0m              width, dodge, fliersize, linewidth):\n\u001b[1;32m--> 406\u001b[0m     \u001b[38;5;28;43mself\u001b[39;49m\u001b[38;5;241;43m.\u001b[39;49m\u001b[43mestablish_variables\u001b[49m\u001b[43m(\u001b[49m\u001b[43mx\u001b[49m\u001b[43m,\u001b[49m\u001b[43m \u001b[49m\u001b[43my\u001b[49m\u001b[43m,\u001b[49m\u001b[43m \u001b[49m\u001b[43mhue\u001b[49m\u001b[43m,\u001b[49m\u001b[43m \u001b[49m\u001b[43mdata\u001b[49m\u001b[43m,\u001b[49m\u001b[43m \u001b[49m\u001b[43morient\u001b[49m\u001b[43m,\u001b[49m\u001b[43m \u001b[49m\u001b[43morder\u001b[49m\u001b[43m,\u001b[49m\u001b[43m \u001b[49m\u001b[43mhue_order\u001b[49m\u001b[43m)\u001b[49m\n\u001b[0;32m    407\u001b[0m     \u001b[38;5;28mself\u001b[39m\u001b[38;5;241m.\u001b[39mestablish_colors(color, palette, saturation)\n\u001b[0;32m    409\u001b[0m     \u001b[38;5;28mself\u001b[39m\u001b[38;5;241m.\u001b[39mdodge \u001b[38;5;241m=\u001b[39m dodge\n",
      "File \u001b[1;32m~\\anaconda3\\lib\\site-packages\\seaborn\\categorical.py:153\u001b[0m, in \u001b[0;36m_CategoricalPlotter.establish_variables\u001b[1;34m(self, x, y, hue, data, orient, order, hue_order, units)\u001b[0m\n\u001b[0;32m    151\u001b[0m     \u001b[38;5;28;01mif\u001b[39;00m \u001b[38;5;28misinstance\u001b[39m(var, \u001b[38;5;28mstr\u001b[39m):\n\u001b[0;32m    152\u001b[0m         err \u001b[38;5;241m=\u001b[39m \u001b[38;5;124m\"\u001b[39m\u001b[38;5;124mCould not interpret input \u001b[39m\u001b[38;5;124m'\u001b[39m\u001b[38;5;132;01m{}\u001b[39;00m\u001b[38;5;124m'\u001b[39m\u001b[38;5;124m\"\u001b[39m\u001b[38;5;241m.\u001b[39mformat(var)\n\u001b[1;32m--> 153\u001b[0m         \u001b[38;5;28;01mraise\u001b[39;00m \u001b[38;5;167;01mValueError\u001b[39;00m(err)\n\u001b[0;32m    155\u001b[0m \u001b[38;5;66;03m# Figure out the plotting orientation\u001b[39;00m\n\u001b[0;32m    156\u001b[0m orient \u001b[38;5;241m=\u001b[39m infer_orient(\n\u001b[0;32m    157\u001b[0m     x, y, orient, require_numeric\u001b[38;5;241m=\u001b[39m\u001b[38;5;28mself\u001b[39m\u001b[38;5;241m.\u001b[39mrequire_numeric\n\u001b[0;32m    158\u001b[0m )\n",
      "\u001b[1;31mValueError\u001b[0m: Could not interpret input 'premium'"
     ]
    }
   ],
   "source": [
    "#detect outlier for the test data\n",
    "viz_outlier(test)"
   ]
  },
  {
   "cell_type": "code",
   "execution_count": 23,
   "id": "042ce1de",
   "metadata": {
    "scrolled": false
   },
   "outputs": [
    {
     "data": {
      "text/plain": [
       "0         3300.0\n",
       "1        18000.0\n",
       "2         3300.0\n",
       "3         9600.0\n",
       "4         9600.0\n",
       "          ...   \n",
       "79848    13800.0\n",
       "79849    26400.0\n",
       "79850     9600.0\n",
       "79851     5700.0\n",
       "79852     9600.0\n",
       "Name: premium, Length: 79853, dtype: float64"
      ]
     },
     "execution_count": 23,
     "metadata": {},
     "output_type": "execute_result"
    }
   ],
   "source": [
    "#filling the outlier using iqr\n",
    "def fill_outlier(df):\n",
    "    \"\"\"\n",
    "    Filling outliers in integer columns.\n",
    "    \n",
    "    parameter\n",
    "    ---------\n",
    "    data : Dataframe\n",
    "          \n",
    "    Returns\n",
    "    -------\n",
    "    Series\n",
    "        Series with no outliers.\n",
    "    \"\"\"\n",
    "    cols = ['perc_premium_paid_by_cash_credit', 'age_in_days', 'Income', 'Count_3-6_months_late',\n",
    "            'Count_6-12_months_late',  'Count_more_than_12_months_late', 'application_underwriting_score',\n",
    "        'no_of_premiums_paid', 'premium']\n",
    "    \n",
    "    for i in df[cols]:\n",
    "        q1 = df[i].quantile(0.25)\n",
    "        q3 = df[i].quantile(0.75)\n",
    "        iqr = q3 - q1\n",
    "        lower_limit = q1 - (1.5 * iqr)\n",
    "        upper_limit = q3 + (1.5 * iqr)\n",
    "        \n",
    "        df[i] = np.where(df[i] > upper_limit, upper_limit, np.where(df[i] < lower_limit, lower_limit, df[i]))\n",
    "        \n",
    "    return df[i]\n",
    "fill_outlier(train)"
   ]
  },
  {
   "cell_type": "code",
   "execution_count": 24,
   "id": "fa006d2a",
   "metadata": {},
   "outputs": [
    {
     "data": {
      "text/plain": [
       "0         7.0\n",
       "1        19.0\n",
       "2         2.0\n",
       "3        11.0\n",
       "4        14.0\n",
       "         ... \n",
       "34219     9.0\n",
       "34220     7.0\n",
       "34221    14.0\n",
       "34222    10.0\n",
       "34223    11.0\n",
       "Name: no_of_premiums_paid, Length: 34224, dtype: float64"
      ]
     },
     "execution_count": 24,
     "metadata": {},
     "output_type": "execute_result"
    }
   ],
   "source": [
    "#filling the outlier using iqr\n",
    "def fill_outlier1(df1):\n",
    "    \"\"\"\n",
    "    Filling outliers in integer columns.\n",
    "    \n",
    "    parameter\n",
    "    ---------\n",
    "    data : Dataframe\n",
    "          \n",
    "    Returns\n",
    "    -------\n",
    "    Series\n",
    "        Series with no outliers.\n",
    "    \"\"\"\n",
    "    cols1 = ['perc_premium_paid_by_cash_credit', 'age_in_days', 'Income', 'Count_3-6_months_late',\n",
    "            'Count_6-12_months_late',  'Count_more_than_12_months_late', 'application_underwriting_score',\n",
    "        'no_of_premiums_paid']\n",
    "    \n",
    "    for j in df1[cols1]:\n",
    "        test_q1 = df1[j].quantile(0.25)\n",
    "        test_q3 = df1[j].quantile(0.75)\n",
    "        test_iqr = test_q3 - test_q1\n",
    "        test_lower_limit = test_q1 - (1.5 * test_iqr)\n",
    "        test_upper_limit = test_q3 + (1.5 * test_iqr)\n",
    "        \n",
    "        df1[j] = np.where(df1[j] > test_upper_limit, test_upper_limit, np.where(df1[j] < test_lower_limit, test_lower_limit, \n",
    "                                                                                df1[j]))\n",
    "        \n",
    "    return df1[j]\n",
    "fill_outlier1(test)"
   ]
  },
  {
   "cell_type": "code",
   "execution_count": 25,
   "id": "f3140df7",
   "metadata": {},
   "outputs": [
    {
     "data": {
      "text/html": [
       "<div>\n",
       "<style scoped>\n",
       "    .dataframe tbody tr th:only-of-type {\n",
       "        vertical-align: middle;\n",
       "    }\n",
       "\n",
       "    .dataframe tbody tr th {\n",
       "        vertical-align: top;\n",
       "    }\n",
       "\n",
       "    .dataframe thead th {\n",
       "        text-align: right;\n",
       "    }\n",
       "</style>\n",
       "<table border=\"1\" class=\"dataframe\">\n",
       "  <thead>\n",
       "    <tr style=\"text-align: right;\">\n",
       "      <th></th>\n",
       "      <th>id</th>\n",
       "      <th>perc_premium_paid_by_cash_credit</th>\n",
       "      <th>age_in_days</th>\n",
       "      <th>Income</th>\n",
       "      <th>Count_3-6_months_late</th>\n",
       "      <th>Count_6-12_months_late</th>\n",
       "      <th>Count_more_than_12_months_late</th>\n",
       "      <th>application_underwriting_score</th>\n",
       "      <th>no_of_premiums_paid</th>\n",
       "      <th>sourcing_channel</th>\n",
       "      <th>residence_area_type</th>\n",
       "      <th>premium</th>\n",
       "      <th>target</th>\n",
       "      <th>premium_paid_by_cash_credit</th>\n",
       "    </tr>\n",
       "  </thead>\n",
       "  <tbody>\n",
       "    <tr>\n",
       "      <th>0</th>\n",
       "      <td>110936</td>\n",
       "      <td>0.429</td>\n",
       "      <td>12058.0</td>\n",
       "      <td>355060.0</td>\n",
       "      <td>0.0</td>\n",
       "      <td>0.0</td>\n",
       "      <td>0.0</td>\n",
       "      <td>99.02</td>\n",
       "      <td>13.0</td>\n",
       "      <td>C</td>\n",
       "      <td>Urban</td>\n",
       "      <td>3300.0</td>\n",
       "      <td>1</td>\n",
       "      <td>1415.7</td>\n",
       "    </tr>\n",
       "    <tr>\n",
       "      <th>1</th>\n",
       "      <td>41492</td>\n",
       "      <td>0.010</td>\n",
       "      <td>21546.0</td>\n",
       "      <td>315150.0</td>\n",
       "      <td>0.0</td>\n",
       "      <td>0.0</td>\n",
       "      <td>0.0</td>\n",
       "      <td>99.89</td>\n",
       "      <td>21.0</td>\n",
       "      <td>A</td>\n",
       "      <td>Urban</td>\n",
       "      <td>18000.0</td>\n",
       "      <td>1</td>\n",
       "      <td>180.0</td>\n",
       "    </tr>\n",
       "    <tr>\n",
       "      <th>2</th>\n",
       "      <td>31300</td>\n",
       "      <td>0.917</td>\n",
       "      <td>17531.0</td>\n",
       "      <td>84140.0</td>\n",
       "      <td>0.0</td>\n",
       "      <td>0.0</td>\n",
       "      <td>0.0</td>\n",
       "      <td>98.69</td>\n",
       "      <td>7.0</td>\n",
       "      <td>C</td>\n",
       "      <td>Rural</td>\n",
       "      <td>3300.0</td>\n",
       "      <td>0</td>\n",
       "      <td>3026.1</td>\n",
       "    </tr>\n",
       "    <tr>\n",
       "      <th>3</th>\n",
       "      <td>19415</td>\n",
       "      <td>0.049</td>\n",
       "      <td>15341.0</td>\n",
       "      <td>250510.0</td>\n",
       "      <td>0.0</td>\n",
       "      <td>0.0</td>\n",
       "      <td>0.0</td>\n",
       "      <td>99.57</td>\n",
       "      <td>9.0</td>\n",
       "      <td>A</td>\n",
       "      <td>Urban</td>\n",
       "      <td>9600.0</td>\n",
       "      <td>1</td>\n",
       "      <td>470.4</td>\n",
       "    </tr>\n",
       "    <tr>\n",
       "      <th>4</th>\n",
       "      <td>99379</td>\n",
       "      <td>0.052</td>\n",
       "      <td>31400.0</td>\n",
       "      <td>198680.0</td>\n",
       "      <td>0.0</td>\n",
       "      <td>0.0</td>\n",
       "      <td>0.0</td>\n",
       "      <td>99.87</td>\n",
       "      <td>12.0</td>\n",
       "      <td>B</td>\n",
       "      <td>Urban</td>\n",
       "      <td>9600.0</td>\n",
       "      <td>1</td>\n",
       "      <td>499.2</td>\n",
       "    </tr>\n",
       "  </tbody>\n",
       "</table>\n",
       "</div>"
      ],
      "text/plain": [
       "       id  perc_premium_paid_by_cash_credit  age_in_days    Income  \\\n",
       "0  110936                             0.429      12058.0  355060.0   \n",
       "1   41492                             0.010      21546.0  315150.0   \n",
       "2   31300                             0.917      17531.0   84140.0   \n",
       "3   19415                             0.049      15341.0  250510.0   \n",
       "4   99379                             0.052      31400.0  198680.0   \n",
       "\n",
       "   Count_3-6_months_late  Count_6-12_months_late  \\\n",
       "0                    0.0                     0.0   \n",
       "1                    0.0                     0.0   \n",
       "2                    0.0                     0.0   \n",
       "3                    0.0                     0.0   \n",
       "4                    0.0                     0.0   \n",
       "\n",
       "   Count_more_than_12_months_late  application_underwriting_score  \\\n",
       "0                             0.0                           99.02   \n",
       "1                             0.0                           99.89   \n",
       "2                             0.0                           98.69   \n",
       "3                             0.0                           99.57   \n",
       "4                             0.0                           99.87   \n",
       "\n",
       "   no_of_premiums_paid sourcing_channel residence_area_type  premium  target  \\\n",
       "0                 13.0                C               Urban   3300.0       1   \n",
       "1                 21.0                A               Urban  18000.0       1   \n",
       "2                  7.0                C               Rural   3300.0       0   \n",
       "3                  9.0                A               Urban   9600.0       1   \n",
       "4                 12.0                B               Urban   9600.0       1   \n",
       "\n",
       "   premium_paid_by_cash_credit  \n",
       "0                       1415.7  \n",
       "1                        180.0  \n",
       "2                       3026.1  \n",
       "3                        470.4  \n",
       "4                        499.2  "
      ]
     },
     "execution_count": 25,
     "metadata": {},
     "output_type": "execute_result"
    }
   ],
   "source": [
    "#feature engineering\n",
    "#creating column for the premium paid through cash credit\n",
    "train['premium_paid_by_cash_credit'] = train['perc_premium_paid_by_cash_credit'] * train['premium']\n",
    "train.head()"
   ]
  },
  {
   "cell_type": "code",
   "execution_count": 26,
   "id": "6a97ab95",
   "metadata": {},
   "outputs": [],
   "source": [
    "#converting the age column \n",
    "train['age_in_days'] = round(train['age_in_days'] / 365, 0).astype('int')\n",
    "test['age_in_days'] = round(test['age_in_days'] / 365, 0).astype('int')"
   ]
  },
  {
   "cell_type": "code",
   "execution_count": 27,
   "id": "e4b39c40",
   "metadata": {},
   "outputs": [
    {
     "data": {
      "text/html": [
       "<div>\n",
       "<style scoped>\n",
       "    .dataframe tbody tr th:only-of-type {\n",
       "        vertical-align: middle;\n",
       "    }\n",
       "\n",
       "    .dataframe tbody tr th {\n",
       "        vertical-align: top;\n",
       "    }\n",
       "\n",
       "    .dataframe thead th {\n",
       "        text-align: right;\n",
       "    }\n",
       "</style>\n",
       "<table border=\"1\" class=\"dataframe\">\n",
       "  <thead>\n",
       "    <tr style=\"text-align: right;\">\n",
       "      <th></th>\n",
       "      <th>id</th>\n",
       "      <th>perc_premium_paid_by_cash_credit</th>\n",
       "      <th>age_in_days</th>\n",
       "      <th>Income</th>\n",
       "      <th>Count_3-6_months_late</th>\n",
       "      <th>Count_6-12_months_late</th>\n",
       "      <th>Count_more_than_12_months_late</th>\n",
       "      <th>application_underwriting_score</th>\n",
       "      <th>no_of_premiums_paid</th>\n",
       "      <th>sourcing_channel</th>\n",
       "      <th>residence_area_type</th>\n",
       "      <th>premium</th>\n",
       "      <th>target</th>\n",
       "      <th>premium_paid_by_cash_credit</th>\n",
       "      <th>premium_paid_by_just_cash</th>\n",
       "    </tr>\n",
       "  </thead>\n",
       "  <tbody>\n",
       "    <tr>\n",
       "      <th>0</th>\n",
       "      <td>110936</td>\n",
       "      <td>0.429</td>\n",
       "      <td>33</td>\n",
       "      <td>355060.0</td>\n",
       "      <td>0.0</td>\n",
       "      <td>0.0</td>\n",
       "      <td>0.0</td>\n",
       "      <td>99.02</td>\n",
       "      <td>13.0</td>\n",
       "      <td>C</td>\n",
       "      <td>Urban</td>\n",
       "      <td>3300.0</td>\n",
       "      <td>1</td>\n",
       "      <td>1415.7</td>\n",
       "      <td>1884.3</td>\n",
       "    </tr>\n",
       "    <tr>\n",
       "      <th>1</th>\n",
       "      <td>41492</td>\n",
       "      <td>0.010</td>\n",
       "      <td>59</td>\n",
       "      <td>315150.0</td>\n",
       "      <td>0.0</td>\n",
       "      <td>0.0</td>\n",
       "      <td>0.0</td>\n",
       "      <td>99.89</td>\n",
       "      <td>21.0</td>\n",
       "      <td>A</td>\n",
       "      <td>Urban</td>\n",
       "      <td>18000.0</td>\n",
       "      <td>1</td>\n",
       "      <td>180.0</td>\n",
       "      <td>17820.0</td>\n",
       "    </tr>\n",
       "    <tr>\n",
       "      <th>2</th>\n",
       "      <td>31300</td>\n",
       "      <td>0.917</td>\n",
       "      <td>48</td>\n",
       "      <td>84140.0</td>\n",
       "      <td>0.0</td>\n",
       "      <td>0.0</td>\n",
       "      <td>0.0</td>\n",
       "      <td>98.69</td>\n",
       "      <td>7.0</td>\n",
       "      <td>C</td>\n",
       "      <td>Rural</td>\n",
       "      <td>3300.0</td>\n",
       "      <td>0</td>\n",
       "      <td>3026.1</td>\n",
       "      <td>273.9</td>\n",
       "    </tr>\n",
       "    <tr>\n",
       "      <th>3</th>\n",
       "      <td>19415</td>\n",
       "      <td>0.049</td>\n",
       "      <td>42</td>\n",
       "      <td>250510.0</td>\n",
       "      <td>0.0</td>\n",
       "      <td>0.0</td>\n",
       "      <td>0.0</td>\n",
       "      <td>99.57</td>\n",
       "      <td>9.0</td>\n",
       "      <td>A</td>\n",
       "      <td>Urban</td>\n",
       "      <td>9600.0</td>\n",
       "      <td>1</td>\n",
       "      <td>470.4</td>\n",
       "      <td>9129.6</td>\n",
       "    </tr>\n",
       "    <tr>\n",
       "      <th>4</th>\n",
       "      <td>99379</td>\n",
       "      <td>0.052</td>\n",
       "      <td>86</td>\n",
       "      <td>198680.0</td>\n",
       "      <td>0.0</td>\n",
       "      <td>0.0</td>\n",
       "      <td>0.0</td>\n",
       "      <td>99.87</td>\n",
       "      <td>12.0</td>\n",
       "      <td>B</td>\n",
       "      <td>Urban</td>\n",
       "      <td>9600.0</td>\n",
       "      <td>1</td>\n",
       "      <td>499.2</td>\n",
       "      <td>9100.8</td>\n",
       "    </tr>\n",
       "  </tbody>\n",
       "</table>\n",
       "</div>"
      ],
      "text/plain": [
       "       id  perc_premium_paid_by_cash_credit  age_in_days    Income  \\\n",
       "0  110936                             0.429           33  355060.0   \n",
       "1   41492                             0.010           59  315150.0   \n",
       "2   31300                             0.917           48   84140.0   \n",
       "3   19415                             0.049           42  250510.0   \n",
       "4   99379                             0.052           86  198680.0   \n",
       "\n",
       "   Count_3-6_months_late  Count_6-12_months_late  \\\n",
       "0                    0.0                     0.0   \n",
       "1                    0.0                     0.0   \n",
       "2                    0.0                     0.0   \n",
       "3                    0.0                     0.0   \n",
       "4                    0.0                     0.0   \n",
       "\n",
       "   Count_more_than_12_months_late  application_underwriting_score  \\\n",
       "0                             0.0                           99.02   \n",
       "1                             0.0                           99.89   \n",
       "2                             0.0                           98.69   \n",
       "3                             0.0                           99.57   \n",
       "4                             0.0                           99.87   \n",
       "\n",
       "   no_of_premiums_paid sourcing_channel residence_area_type  premium  target  \\\n",
       "0                 13.0                C               Urban   3300.0       1   \n",
       "1                 21.0                A               Urban  18000.0       1   \n",
       "2                  7.0                C               Rural   3300.0       0   \n",
       "3                  9.0                A               Urban   9600.0       1   \n",
       "4                 12.0                B               Urban   9600.0       1   \n",
       "\n",
       "   premium_paid_by_cash_credit  premium_paid_by_just_cash  \n",
       "0                       1415.7                     1884.3  \n",
       "1                        180.0                    17820.0  \n",
       "2                       3026.1                      273.9  \n",
       "3                        470.4                     9129.6  \n",
       "4                        499.2                     9100.8  "
      ]
     },
     "execution_count": 27,
     "metadata": {},
     "output_type": "execute_result"
    }
   ],
   "source": [
    "train['premium_paid_by_just_cash'] = train['premium'] - train['premium_paid_by_cash_credit']\n",
    "train.head()"
   ]
  },
  {
   "cell_type": "code",
   "execution_count": 28,
   "id": "9cdf1bf0",
   "metadata": {},
   "outputs": [
    {
     "name": "stderr",
     "output_type": "stream",
     "text": [
      "C:\\Users\\User\\anaconda3\\lib\\site-packages\\seaborn\\_decorators.py:36: FutureWarning: Pass the following variable as a keyword arg: x. From version 0.12, the only valid positional argument will be `data`, and passing other arguments without an explicit keyword will result in an error or misinterpretation.\n",
      "  warnings.warn(\n"
     ]
    },
    {
     "data": {
      "image/png": "[encoded data removed]",
      "text/plain": [
       "<Figure size 432x288 with 1 Axes>"
      ]
     },
     "metadata": {
      "needs_background": "light"
     },
     "output_type": "display_data"
    }
   ],
   "source": [
    "#evaluate the distribution of the target variable\n",
    "sns.countplot('target', data = train, color = 'Red', alpha = 0.5)\n",
    "plt.ylabel('count')\n",
    "plt.xlabel('Target Variable')\n",
    "plt.xticks([0,1], ['No', 'Yes'])\n",
    "plt.show()"
   ]
  },
  {
   "cell_type": "markdown",
   "id": "b9dd12e4",
   "metadata": {},
   "source": [
    "- Note we have an imbalance target data. Therefore the best way to solve this is either by oversampling or undersampling.\n",
    "\n",
    "* Undersampling - This technique is used to balance uneven datasets by keeping all of the data in the minority class and decreasing the size of the majority class. Doing this will make us lost a lot of dataset.\n",
    "\n",
    "* Oversampling - This technique is used to balance uneven datasets by keeping all of the data in the majority class and increaing the size of the minority class."
   ]
  },
  {
   "cell_type": "markdown",
   "id": "8b12e1df",
   "metadata": {},
   "source": [
    "# Model Development"
   ]
  },
  {
   "cell_type": "code",
   "execution_count": 29,
   "id": "e1c2fd15",
   "metadata": {},
   "outputs": [
    {
     "data": {
      "text/html": [
       "<div>\n",
       "<style scoped>\n",
       "    .dataframe tbody tr th:only-of-type {\n",
       "        vertical-align: middle;\n",
       "    }\n",
       "\n",
       "    .dataframe tbody tr th {\n",
       "        vertical-align: top;\n",
       "    }\n",
       "\n",
       "    .dataframe thead th {\n",
       "        text-align: right;\n",
       "    }\n",
       "</style>\n",
       "<table border=\"1\" class=\"dataframe\">\n",
       "  <thead>\n",
       "    <tr style=\"text-align: right;\">\n",
       "      <th></th>\n",
       "      <th>perc_premium_paid_by_cash_credit</th>\n",
       "      <th>age_in_days</th>\n",
       "      <th>Income</th>\n",
       "      <th>application_underwriting_score</th>\n",
       "      <th>no_of_premiums_paid</th>\n",
       "      <th>sourcing_channel</th>\n",
       "      <th>residence_area_type</th>\n",
       "    </tr>\n",
       "  </thead>\n",
       "  <tbody>\n",
       "    <tr>\n",
       "      <th>0</th>\n",
       "      <td>0.429</td>\n",
       "      <td>33</td>\n",
       "      <td>355060.0</td>\n",
       "      <td>99.02</td>\n",
       "      <td>13.0</td>\n",
       "      <td>C</td>\n",
       "      <td>Urban</td>\n",
       "    </tr>\n",
       "    <tr>\n",
       "      <th>1</th>\n",
       "      <td>0.010</td>\n",
       "      <td>59</td>\n",
       "      <td>315150.0</td>\n",
       "      <td>99.89</td>\n",
       "      <td>21.0</td>\n",
       "      <td>A</td>\n",
       "      <td>Urban</td>\n",
       "    </tr>\n",
       "    <tr>\n",
       "      <th>2</th>\n",
       "      <td>0.917</td>\n",
       "      <td>48</td>\n",
       "      <td>84140.0</td>\n",
       "      <td>98.69</td>\n",
       "      <td>7.0</td>\n",
       "      <td>C</td>\n",
       "      <td>Rural</td>\n",
       "    </tr>\n",
       "    <tr>\n",
       "      <th>3</th>\n",
       "      <td>0.049</td>\n",
       "      <td>42</td>\n",
       "      <td>250510.0</td>\n",
       "      <td>99.57</td>\n",
       "      <td>9.0</td>\n",
       "      <td>A</td>\n",
       "      <td>Urban</td>\n",
       "    </tr>\n",
       "    <tr>\n",
       "      <th>4</th>\n",
       "      <td>0.052</td>\n",
       "      <td>86</td>\n",
       "      <td>198680.0</td>\n",
       "      <td>99.87</td>\n",
       "      <td>12.0</td>\n",
       "      <td>B</td>\n",
       "      <td>Urban</td>\n",
       "    </tr>\n",
       "  </tbody>\n",
       "</table>\n",
       "</div>"
      ],
      "text/plain": [
       "   perc_premium_paid_by_cash_credit  age_in_days    Income  \\\n",
       "0                             0.429           33  355060.0   \n",
       "1                             0.010           59  315150.0   \n",
       "2                             0.917           48   84140.0   \n",
       "3                             0.049           42  250510.0   \n",
       "4                             0.052           86  198680.0   \n",
       "\n",
       "   application_underwriting_score  no_of_premiums_paid sourcing_channel  \\\n",
       "0                           99.02                 13.0                C   \n",
       "1                           99.89                 21.0                A   \n",
       "2                           98.69                  7.0                C   \n",
       "3                           99.57                  9.0                A   \n",
       "4                           99.87                 12.0                B   \n",
       "\n",
       "  residence_area_type  \n",
       "0               Urban  \n",
       "1               Urban  \n",
       "2               Rural  \n",
       "3               Urban  \n",
       "4               Urban  "
      ]
     },
     "execution_count": 29,
     "metadata": {},
     "output_type": "execute_result"
    }
   ],
   "source": [
    "# Splitting the data into feature and target variables\n",
    "X = train.drop(columns = ['id', 'Count_3-6_months_late', 'Count_6-12_months_late', 'Count_more_than_12_months_late',\n",
    "                           'premium_paid_by_cash_credit', 'premium', 'premium_paid_by_just_cash', 'target'], axis = 1)\n",
    "y = train['target']\n",
    "X.head()"
   ]
  },
  {
   "cell_type": "code",
   "execution_count": 30,
   "id": "51e7e93b",
   "metadata": {},
   "outputs": [
    {
     "data": {
      "text/plain": [
       "((149708, 7), (149708,))"
      ]
     },
     "execution_count": 30,
     "metadata": {},
     "output_type": "execute_result"
    }
   ],
   "source": [
    "# Oversampling the dataset to avoid imbalanace target variable\n",
    "over = RandomOverSampler(random_state = 42)\n",
    "X_ovr, y_ovr = over.fit_resample(X, y)\n",
    "X_ovr.shape, y_ovr.shape"
   ]
  },
  {
   "cell_type": "code",
   "execution_count": 31,
   "id": "3fd16e1c",
   "metadata": {},
   "outputs": [],
   "source": [
    "#splitting the model into validation and train dataset\n",
    "X_train, X_val, y_train, y_val = train_test_split(X_ovr, y_ovr, test_size = 0.3, random_state = 43, stratify = y_ovr) "
   ]
  },
  {
   "cell_type": "code",
   "execution_count": 32,
   "id": "610d58a2",
   "metadata": {},
   "outputs": [
    {
     "data": {
      "text/plain": [
       "0.9286620800213746"
      ]
     },
     "execution_count": 32,
     "metadata": {},
     "output_type": "execute_result"
    }
   ],
   "source": [
    "# Instantiating Knn model\n",
    "knn_model = make_pipeline(OneHotEncoder(use_cat_names=True), StandardScaler(),\n",
    "                    KNeighborsClassifier(n_neighbors= 2))\n",
    "knn_model.fit(X_train, y_train)\n",
    "knn_pred = knn_model.predict(X_val)\n",
    "knn_score = accuracy_score(y_val, knn_pred)\n",
    "knn_score"
   ]
  },
  {
   "cell_type": "code",
   "execution_count": 33,
   "id": "16b3ad55",
   "metadata": {},
   "outputs": [
    {
     "data": {
      "text/plain": [
       "array([[22457,     0],\n",
       "       [ 3204, 19252]], dtype=int64)"
      ]
     },
     "execution_count": 33,
     "metadata": {},
     "output_type": "execute_result"
    }
   ],
   "source": [
    "# Getting the confusion matrix of knn model\n",
    "knn_cm = confusion_matrix(y_val, knn_pred, labels = knn_model.classes_)\n",
    "knn_cm"
   ]
  },
  {
   "cell_type": "code",
   "execution_count": 34,
   "id": "2814d45b",
   "metadata": {},
   "outputs": [
    {
     "data": {
      "image/png": "[encoded data removed]",
      "text/plain": [
       "<Figure size 1152x576 with 2 Axes>"
      ]
     },
     "metadata": {
      "needs_background": "light"
     },
     "output_type": "display_data"
    }
   ],
   "source": [
    "# Plotting Confusion matrix of the knn model\n",
    "conf_knn = ConfusionMatrixDisplay(confusion_matrix=knn_cm, display_labels = [\"No\", \"Yes\"])\n",
    "fig, ax = plt.subplots(figsize = (16, 8))\n",
    "conf_knn.plot(ax=ax)\n",
    "plt.title(\"KNN Confusion Matrix\", size = 25);"
   ]
  },
  {
   "cell_type": "code",
   "execution_count": 35,
   "id": "7454e7b0",
   "metadata": {},
   "outputs": [
    {
     "data": {
      "text/plain": [
       "0.9608131276022532"
      ]
     },
     "execution_count": 35,
     "metadata": {},
     "output_type": "execute_result"
    }
   ],
   "source": [
    "# Instantiating decision tree model\n",
    "tree = make_pipeline(OneHotEncoder(use_cat_names=True), StandardScaler(),\n",
    "                 DecisionTreeClassifier())\n",
    "tree.fit(X_train, y_train)\n",
    "tree_pred = tree.predict(X_val)\n",
    "score = accuracy_score(y_val, tree_pred)\n",
    "score"
   ]
  },
  {
   "cell_type": "code",
   "execution_count": 36,
   "id": "2d87f6eb",
   "metadata": {},
   "outputs": [
    {
     "data": {
      "text/plain": [
       "array([[22457,     0],\n",
       "       [ 1760, 20696]], dtype=int64)"
      ]
     },
     "execution_count": 36,
     "metadata": {},
     "output_type": "execute_result"
    }
   ],
   "source": [
    "# Getting decision tree model confusion matrix\n",
    "tree_cm = confusion_matrix(y_val, tree_pred, labels = knn_model.classes_)\n",
    "tree_cm"
   ]
  },
  {
   "cell_type": "code",
   "execution_count": 37,
   "id": "ae5b6201",
   "metadata": {},
   "outputs": [
    {
     "data": {
      "image/png": "[encoded data removed]",
      "text/plain": [
       "<Figure size 1152x576 with 2 Axes>"
      ]
     },
     "metadata": {
      "needs_background": "light"
     },
     "output_type": "display_data"
    }
   ],
   "source": [
    "# Plotting Confusion matrix of the model\n",
    "conf_tree = ConfusionMatrixDisplay(confusion_matrix=tree_cm, display_labels = [\"No\", \"Yes\"])\n",
    "fig, ax = plt.subplots(figsize = (16, 8))\n",
    "conf_tree.plot(ax=ax)\n",
    "plt.title(\"Decision Tree Confusion Matrix\", size = 25);"
   ]
  },
  {
   "cell_type": "markdown",
   "id": "57171563",
   "metadata": {},
   "source": [
    "## Since the decision tree model performed better than the knn model, I will be using the former model to oredict the test data and also this is the model I will deploy."
   ]
  },
  {
   "cell_type": "code",
   "execution_count": 38,
   "id": "510e322b",
   "metadata": {},
   "outputs": [],
   "source": [
    "# Dropping unnecessary columns from the test data\n",
    "test = test.drop(columns = ['id', 'Count_3-6_months_late', 'Count_6-12_months_late', 'Count_more_than_12_months_late'], axis = 1)"
   ]
  },
  {
   "cell_type": "code",
   "execution_count": 40,
   "id": "38eca8c8",
   "metadata": {},
   "outputs": [
    {
     "data": {
      "text/plain": [
       "array([1, 1, 1, ..., 0, 1, 1], dtype=int64)"
      ]
     },
     "execution_count": 40,
     "metadata": {},
     "output_type": "execute_result"
    }
   ],
   "source": [
    "#Usung decision tree model to predict the test data\n",
    "test_pred = tree.predict(test)\n",
    "test_pred"
   ]
  }
 ],
 "metadata": {
  "kernelspec": {
   "display_name": "Python 3 (ipykernel)",
   "language": "python",
   "name": "python3"
  },
  "language_info": {
   "codemirror_mode": {
    "name": "ipython",
    "version": 3
   },
   "file_extension": ".py",
   "mimetype": "text/x-python",
   "name": "python",
   "nbconvert_exporter": "python",
   "pygments_lexer": "ipython3",
   "version": "3.9.12"
  }
 },
 "nbformat": 4,
 "nbformat_minor": 5
}
